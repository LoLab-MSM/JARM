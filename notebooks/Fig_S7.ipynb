{
 "cells": [
  {
   "cell_type": "code",
   "execution_count": null,
   "metadata": {},
   "outputs": [],
   "source": [
    "import sys\n",
    "sys.path.append(\"..\")\n",
    "from model_analysis.jnk3_no_ask1 import model\n",
    "import seaborn as sns\n",
    "import numpy as np\n",
    "from matplotlib import pyplot as plt\n",
    "\n",
    "%matplotlib inline"
   ]
  },
  {
   "cell_type": "code",
   "execution_count": null,
   "metadata": {},
   "outputs": [],
   "source": [
    "# Loading sampling parameter from pydream run\n",
    "\n",
    "chain0 = np.load('../model_analysis/pydream_results/jnk3_dreamzs_5chain_sampled_params_chain_0_100000.npy')\n",
    "chain1 = np.load('../model_analysis/pydream_results/jnk3_dreamzs_5chain_sampled_params_chain_1_100000.npy')\n",
    "chain2 = np.load('../model_analysis/pydream_results/jnk3_dreamzs_5chain_sampled_params_chain_2_100000.npy')\n",
    "chain3 = np.load('../model_analysis/pydream_results/jnk3_dreamzs_5chain_sampled_params_chain_3_100000.npy')\n",
    "chain4 = np.load('../model_analysis/pydream_results/jnk3_dreamzs_5chain_sampled_params_chain_4_100000.npy')\n",
    "\n",
    "total_iterations = chain0.shape[0]\n",
    "burnin = total_iterations / 2\n",
    "samples = np.concatenate((chain0[burnin:, :], chain1[burnin:, :], chain2[burnin:, :],\n",
    "                          chain3[burnin:, :], chain4[burnin:, :]))\n"
   ]
  },
  {
   "cell_type": "code",
   "execution_count": null,
   "metadata": {},
   "outputs": [],
   "source": [
    "# setting up variables for plotting\n",
    "\n",
    "idx_pars_calibrate = [1, 5, 9, 11, 15, 17, 19, 23, 25, 27, 31, 35, 36, 37, 38, 39, 41, 43] #pydream3\n",
    "\n",
    "ndims = len(idx_pars_calibrate)\n",
    "colors = sns.color_palette(n_colors=ndims)\n",
    "rows = 6\n",
    "columns = 3\n",
    "counter = 0"
   ]
  },
  {
   "cell_type": "code",
   "execution_count": null,
   "metadata": {},
   "outputs": [],
   "source": [
    "# plotting results\n",
    "\n",
    "f, axes = plt.subplots(rows, columns, figsize=(7, 7), sharex=True)\n",
    "for r in range(rows):\n",
    "    for c in range(columns):\n",
    "        weights = np.ones_like(samples[:, counter])/float(len(samples[:, counter]))\n",
    "        # sns.distplot(samples[:, counter], hist=True, color=colors[counter], norm_hist=True, ax=axes[r, c])\n",
    "        axes[r, c].hist(samples[:, counter], bins=25, color=colors[counter], weights=weights)\n",
    "        axes[r, c].set_title(model.parameters[idx_pars_calibrate[counter]].name, fontdict={'fontsize':8})\n",
    "        # axes[r, c].set_xlim(-6, 6)\n",
    "        counter += 1\n",
    "\n",
    "        if counter > len(idx_pars_calibrate):\n",
    "            break\n",
    "f.add_subplot(111, frameon=False)\n",
    "f.subplots_adjust(hspace=0.5)\n",
    "# hide tick and tick label of the big axes\n",
    "plt.tick_params(labelcolor='none', top='off', bottom='off', left='off', right='off')\n",
    "plt.grid(False)\n",
    "plt.xlabel(\"Log(Parameter value)\", fontsize=14)\n",
    "plt.ylabel(\"Probability\", fontsize=14, labelpad=15)"
   ]
  }
 ],
 "metadata": {
  "kernelspec": {
   "display_name": "Python 2",
   "language": "python",
   "name": "python2"
  },
  "language_info": {
   "codemirror_mode": {
    "name": "ipython",
    "version": 2
   },
   "file_extension": ".py",
   "mimetype": "text/x-python",
   "name": "python",
   "nbconvert_exporter": "python",
   "pygments_lexer": "ipython2",
   "version": "2.7.13"
  }
 },
 "nbformat": 4,
 "nbformat_minor": 2
}
