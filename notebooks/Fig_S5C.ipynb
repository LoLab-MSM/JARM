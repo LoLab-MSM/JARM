{
 "cells": [
  {
   "cell_type": "code",
   "execution_count": null,
   "metadata": {},
   "outputs": [],
   "source": [
    "import sys\n",
    "sys.path.append(\"..\")\n",
    "from model_analysis.jnk3_no_ask1 import model\n",
    "import numpy as np\n",
    "from pysb.simulator import ScipyOdeSimulator\n",
    "import matplotlib.pyplot as plt\n",
    "from model_analysis.equilibration_function import pre_equilibration\n",
    "import sympy\n",
    "from collections import OrderedDict\n",
    "import pandas as pd"
   ]
  },
  {
   "cell_type": "code",
   "execution_count": null,
   "metadata": {},
   "outputs": [],
   "source": [
    "idx_pars_calibrate = [1, 5, 9, 11, 15, 17, 19, 23, 25, 27, 31, 35, 36, 37, 38, 39, 41, 43] #pydream3\n",
    "rates_of_interest_mask = [i in idx_pars_calibrate for i, par in enumerate(model.parameters)]\n",
    "\n",
    "# calibrated_pars = np.load('jnk3_noASK1_calibrated_pars_pso_1h.npy')\n",
    "calibrated_pars = np.load('../model_analysis/most_likely_par_100000.npy') # most likely parameter from pydream calibration\n",
    "param_values = np.array([p.value for p in model.parameters])\n",
    "\n",
    "jnk3_initial_idxs = [47, 48, 49]\n",
    "arrestin_idx = 44\n",
    "kcat_idx = [36, 37]\n",
    "\n",
    "par_set_calibrated = np.copy(param_values)\n",
    "par_set_calibrated[rates_of_interest_mask] = 10 ** calibrated_pars"
   ]
  },
  {
   "cell_type": "code",
   "execution_count": null,
   "metadata": {},
   "outputs": [],
   "source": [
    "def plot_arrestin_noarrestin_ppjnk3():\n",
    "    # Pre-equilibration\n",
    "    exp_data = pd.read_csv('../data/exp_data_3min.csv')\n",
    "    tspan = np.linspace(0, exp_data['Time (secs)'].values[-1], 121)\n",
    "    solver = ScipyOdeSimulator(model, tspan=tspan)\n",
    "\n",
    "    pars1 = np.copy(par_set_calibrated)\n",
    "    pars2 = np.copy(par_set_calibrated)\n",
    "\n",
    "    # Pre-equilibration\n",
    "    time_eq = np.linspace(0, 100, 100)\n",
    "    pars_eq1 = np.copy(par_set_calibrated)\n",
    "    pars_eq2 = np.copy(par_set_calibrated)\n",
    "\n",
    "    pars_eq2[arrestin_idx] = 0\n",
    "    pars_eq2[jnk3_initial_idxs] = [0.5958, 0, 0.0042]\n",
    "\n",
    "    all_pars = np.stack((pars_eq1, pars_eq2))\n",
    "    all_pars[:, kcat_idx] = 0  # Setting catalytic reactions to zero for pre-equilibration\n",
    "    eq_conc = pre_equilibration(model, time_eq, all_pars)[1]\n",
    "\n",
    "    # Simulating models with initials from pre-equilibration and parameters for condition with/without arrestin\n",
    "    pars2[arrestin_idx] = 0\n",
    "    pars2[jnk3_initial_idxs] = [0.5958, 0, 0.0042]\n",
    "    sim = solver.run(param_values=[pars1, pars2], initials=eq_conc).all\n",
    "\n",
    "\n",
    "    print ('Fold change:',(sim[0]['all_jnk3'][-1] ) / (sim[1]['all_jnk3'][-1] ))\n",
    "\n",
    "    plt.plot(tspan, sim[0]['all_jnk3'], color='r', label='ppJNK3 with Arrestin-3')\n",
    "    plt.plot(tspan, sim[1]['all_jnk3'], color='k', label='ppJNK3 no Arrestin-3')\n",
    "    plt.xlabel('Time (s)')\n",
    "    plt.ylabel(r' Normalized Concentration')\n",
    "    plt.legend()"
   ]
  },
  {
   "cell_type": "code",
   "execution_count": null,
   "metadata": {},
   "outputs": [],
   "source": [
    "plot_arrestin_noarrestin_ppjnk3()"
   ]
  }
 ],
 "metadata": {
  "kernelspec": {
   "display_name": "Python 2",
   "language": "python",
   "name": "python2"
  },
  "language_info": {
   "codemirror_mode": {
    "name": "ipython",
    "version": 2
   },
   "file_extension": ".py",
   "mimetype": "text/x-python",
   "name": "python",
   "nbconvert_exporter": "python",
   "pygments_lexer": "ipython2",
   "version": "2.7.13"
  }
 },
 "nbformat": 4,
 "nbformat_minor": 2
}
