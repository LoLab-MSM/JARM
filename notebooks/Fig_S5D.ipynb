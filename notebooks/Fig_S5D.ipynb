{
 "cells": [
  {
   "cell_type": "code",
   "execution_count": null,
   "metadata": {},
   "outputs": [],
   "source": [
    "# Loading libraries\n",
    "import sys\n",
    "sys.path.append(\"..\")\n",
    "from model_analysis.jnk3_no_ask1 import model\n",
    "import numpy as np\n",
    "from pysb.simulator import ScipyOdeSimulator\n",
    "import matplotlib.pyplot as plt\n",
    "from model_analysis.equilibration_function import pre_equilibration\n",
    "\n",
    "%matplotlib inline"
   ]
  },
  {
   "cell_type": "code",
   "execution_count": null,
   "metadata": {},
   "outputs": [],
   "source": [
    "# Loading fitted parameters\n",
    "idx_pars_calibrate = [1, 5, 9, 11, 15, 17, 19, 23, 25, 27, 31, 35, 36, 37, 38, 39, 41, 43] #pydream3\n",
    "rates_of_interest_mask = [i in idx_pars_calibrate for i, par in enumerate(model.parameters)]\n",
    "\n",
    "calibrated_pars = np.load('../model_analysis/most_likely_par_100000.npy')\n",
    "param_values = np.array([p.value for p in model.parameters])\n",
    "\n",
    "par_set_calibrated = np.copy(param_values)\n",
    "par_set_calibrated[rates_of_interest_mask] = 10 ** calibrated_pars"
   ]
  },
  {
   "cell_type": "code",
   "execution_count": null,
   "metadata": {},
   "outputs": [],
   "source": [
    "# Generating parameter with different initial conditions\n",
    "# for arrestin\n",
    "\n",
    "tspan = np.linspace(0, 60, 100)\n",
    "\n",
    "n_conditions = 500\n",
    "max_arrestin = 100\n",
    "arrestin_initials = np.linspace(0, max_arrestin, n_conditions)\n",
    "arrestin_initials = arrestin_initials\n",
    "par_clus1 = par_set_calibrated\n",
    "\n",
    "arrestin_idx = 44\n",
    "kcat_idx = [36, 37]\n",
    "\n",
    "repeated_parameter_values = np.tile(par_clus1, (n_conditions, 1))\n",
    "repeated_parameter_values[:, arrestin_idx] = arrestin_initials\n",
    "np.save('arrestin_diff_IC_par0.npy', repeated_parameter_values)\n",
    "\n",
    "time_eq = np.linspace(0, 1000, 100)\n",
    "pars_ic_eq = np.copy(repeated_parameter_values)\n",
    "pars_ic_eq[:, kcat_idx] = 0  # Setting catalytic reactions to zero for pre-equilibration\n",
    "eq_conc = pre_equilibration(model, time_eq, pars_ic_eq)[1]\n",
    "\n",
    "sim1 = ScipyOdeSimulator(model=model, tspan=tspan).run(param_values=repeated_parameter_values, initials=eq_conc).all\n",
    "\n",
    "ppjnk3 = np.array([s['all_jnk3'][-1] for s in sim1])\n",
    "ppjnk3_max_idx = np.argmax(ppjnk3)\n",
    "\n",
    "plt.plot(arrestin_initials, ppjnk3)\n",
    "plt.axvline(arrestin_initials[ppjnk3_max_idx], color='r', linestyle = 'dashed', ymax=0.95)\n",
    "locs, labels = plt.xticks()\n",
    "locs = np.append(locs, arrestin_initials[ppjnk3_max_idx])\n",
    "plt.xticks(locs.astype(int))\n",
    "plt.xlim(0, max_arrestin)\n",
    "plt.xlabel(r'Arrestin [$\\mu$M]')\n",
    "plt.ylabel(r'doubly phosphorylated JNK3 [$\\mu$M]')"
   ]
  },
  {
   "cell_type": "code",
   "execution_count": null,
   "metadata": {},
   "outputs": [],
   "source": []
  }
 ],
 "metadata": {
  "kernelspec": {
   "display_name": "Python 2",
   "language": "python",
   "name": "python2"
  },
  "language_info": {
   "codemirror_mode": {
    "name": "ipython",
    "version": 2
   },
   "file_extension": ".py",
   "mimetype": "text/x-python",
   "name": "python",
   "nbconvert_exporter": "python",
   "pygments_lexer": "ipython2",
   "version": "2.7.13"
  }
 },
 "nbformat": 4,
 "nbformat_minor": 2
}
