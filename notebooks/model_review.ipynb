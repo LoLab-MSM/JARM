{
 "cells": [
  {
   "cell_type": "code",
   "execution_count": 12,
   "metadata": {},
   "outputs": [],
   "source": [
    "# Importing model\n",
    "import sys\n",
    "sys.path.append(\"..\")\n",
    "from jnk3_noask1.jnk3_no_ask1 import model\n",
    "from pysb.bng import generate_equations"
   ]
  },
  {
   "cell_type": "code",
   "execution_count": 9,
   "metadata": {},
   "outputs": [
    {
     "name": "stdout",
     "output_type": "stream",
     "text": [
      "Monomer('Arrestin', ['b1', 'b2', 'b3'])\n",
      "Monomer('MKK4', ['b', 'state'], {'state': ['U', 'P']})\n",
      "Monomer('MKK7', ['b', 'state'], {'state': ['U', 'P']})\n",
      "Monomer('JNK3', ['b', 'threo', 'tyro'], {'tyro': ['U', 'P'], 'threo': ['U', 'P']})\n"
     ]
    }
   ],
   "source": [
    "# Model monomers\n",
    "for i in model.monomers: print i"
   ]
  },
  {
   "cell_type": "code",
   "execution_count": 14,
   "metadata": {},
   "outputs": [
    {
     "name": "stdout",
     "output_type": "stream",
     "text": [
      "Parameter('kf_uMKK4_Arr', 2.0)\n",
      "Parameter('kr_uMKK4_Arr', 46.0)\n",
      "Parameter('kf_pMKK4_Arr', 2.0)\n",
      "Parameter('kr_pMKK4_Arr', 176.340346800959)\n",
      "Parameter('kf_uMKK7_Arr', 2.0)\n",
      "Parameter('kr_uMKK7_Arr', 13.0)\n",
      "Parameter('kf_pMKK7_Arr', 2.0)\n",
      "Parameter('kr_pMKK7_Arr', 26.0)\n",
      "Parameter('kf_MKK4_ArrBinduuJNK3', 2.0)\n",
      "Parameter('kr_MKK4_ArrBinduuJNK3', 2.8)\n",
      "Parameter('kf_upJNK3Arr_MKK4', 2.0)\n",
      "Parameter('kr_upJNK3Arr_MKK4', 8.4)\n",
      "Parameter('kf_puJNK3Arr_MKK7', 2.0)\n",
      "Parameter('kr_puJNK3Arr_MKK7', 21.0)\n",
      "Parameter('kf_ppJNK3_Arr', 2.0)\n",
      "Parameter('kr_ppJNK3_Arr', 440.0)\n",
      "Parameter('kcat_uMKK4_to_pMKK4', 0.14)\n",
      "Parameter('kcat_uMKK7_to_pMKK7', 1.72)\n",
      "Parameter('kf_JNK3_Arr', 2.0)\n",
      "Parameter('kr_JNK3_Arr', 2.8)\n",
      "Parameter('kf_MKK4BindArr_JNK3', 2.0)\n",
      "Parameter('kr_MKK4BindArr_JNK3', 2.0)\n",
      "Parameter('kf_MKK7BindArr_JNK3', 2.0)\n",
      "Parameter('kr_MKK7BindArr_JNK3', 2.0)\n",
      "Parameter('kf_MKK7_ArrBinduuJNK3', 2.0)\n",
      "Parameter('kr_MKK7_ArrBinduuJNK3', 2.4)\n",
      "Parameter('kf_MKK4_uJNK3', 2.0)\n",
      "Parameter('kr_MKK4_uJNK3', 4.0)\n",
      "Parameter('kf_MKK7_uJNK3', 2.0)\n",
      "Parameter('kr_MKK7_uJNK3', 4.0)\n",
      "Parameter('keq_uMKK4_to_uMKK7', 10.0)\n",
      "Parameter('keq_uMKK7_to_uMKK4', 10.0)\n",
      "Parameter('kcat_pMKK4_ArrJNK3', 1.0)\n",
      "Parameter('kcat_pMKK7_ArrJNK3', 1.0)\n",
      "Parameter('kcat_pMKK4_JNK3', 1.0)\n",
      "Parameter('kcat_pMKK7_JNK3', 1.0)\n",
      "Parameter('keq_pMKK4_to_pMKK7', 1.0)\n",
      "Parameter('keq_pMKK7_to_pMKK4', 1.0)\n",
      "Parameter('kf_pJNK3_MKK4complex', 2.0)\n",
      "Parameter('kr_pJNK3_MKK4complex', 3.0)\n",
      "Parameter('kf_pJNK3_MKK7complex', 2.0)\n",
      "Parameter('kr_pJNK3_MKK7complex', 3.0)\n",
      "Parameter('Arrestin_0', 5.0)\n",
      "Parameter('pMKK4_0', 0.05)\n",
      "Parameter('pMKK7_0', 0.05)\n",
      "Parameter('uJNK3_0', 0.5)\n"
     ]
    }
   ],
   "source": [
    "# Model parameters\n",
    "for i in model.parameters: print i"
   ]
  },
  {
   "cell_type": "code",
   "execution_count": 15,
   "metadata": {},
   "outputs": [
    {
     "name": "stdout",
     "output_type": "stream",
     "text": [
      "Rule('pMKK4BindArr', Arrestin(b1=None, b2=None, b3=None) + MKK4(b=None, state='P') | Arrestin(b1=None, b2=2, b3=None) % MKK4(b=2, state='P'), kf_pMKK4_Arr, kr_pMKK4_Arr)\n",
      "Rule('pMKK7BindArr', Arrestin(b1=None, b2=None, b3=None) + MKK7(b=None, state='P') | Arrestin(b1=None, b2=2, b3=None) % MKK7(b=2, state='P'), kf_pMKK7_Arr, kr_pMKK7_Arr)\n",
      "Rule('uuJNK3BindArr', Arrestin(b1=None, b2=None, b3=None) + JNK3(b=None, threo='U', tyro='U') | Arrestin(b1=None, b2=None, b3=3) % JNK3(b=3, threo='U', tyro='U'), kf_JNK3_Arr, kr_JNK3_Arr)\n",
      "Rule('upJNK3BindArr', Arrestin(b1=None, b2=None, b3=None) + JNK3(b=None, threo='U', tyro='P') | Arrestin(b1=None, b2=None, b3=3) % JNK3(b=3, threo='U', tyro='P'), kf_upJNK3Arr_MKK4, kr_upJNK3Arr_MKK4)\n",
      "Rule('puJNK3BindArr', Arrestin(b1=None, b2=None, b3=None) + JNK3(b=None, threo='P', tyro='U') | Arrestin(b1=None, b2=None, b3=3) % JNK3(b=3, threo='P', tyro='U'), kf_puJNK3Arr_MKK7, kr_puJNK3Arr_MKK7)\n",
      "Rule('MKK4_ArrBinduuJNK3', Arrestin(b1=None, b2=2, b3=None) % MKK4(b=2, state='P') + JNK3(b=None, threo='U', tyro='U') | Arrestin(b1=None, b2=2, b3=3) % MKK4(b=2, state='P') % JNK3(b=3, threo='U', tyro='U'), kf_MKK4_ArrBinduuJNK3, kr_MKK4_ArrBinduuJNK3)\n",
      "Rule('MKK4catJNK3Arr', Arrestin(b1=None, b2=2, b3=3) % MKK4(b=2, state='P') % JNK3(b=3, tyro='U') >> Arrestin(b1=None, b2=2, b3=3) % MKK4(b=2, state='P') % JNK3(b=3, tyro='P'), kcat_pMKK4_ArrJNK3)\n",
      "Rule('upJNK3Arr_MKK4_diss', Arrestin(b1=None, b2=2, b3=3) % MKK4(b=2, state='P') % JNK3(b=3, threo='U', tyro='P') | Arrestin(b1=None, b2=2, b3=None) % MKK4(b=2, state='P') + JNK3(b=None, threo='U', tyro='P'), kr_upJNK3Arr_MKK4, kf_upJNK3Arr_MKK4)\n",
      "Rule('puJNK3Arr_MKK4_diss', Arrestin(b1=None, b2=2, b3=3) % MKK4(b=2, state='P') % JNK3(b=3, threo='P', tyro='U') | Arrestin(b1=None, b2=2, b3=None) % MKK4(b=2, state='P') + JNK3(b=None, threo='P', tyro='U'), kr_puJNK3Arr_MKK7, kf_puJNK3Arr_MKK7)\n",
      "Rule('ppJNK3Arr_MKK4_diss', Arrestin(b1=None, b2=2, b3=3) % MKK4(b=2, state='P') % JNK3(b=3, threo='P', tyro='P') | Arrestin(b1=None, b2=2, b3=None) % MKK4(b=2, state='P') + JNK3(b=None, threo='P', tyro='P'), kr_ppJNK3_Arr, kf_ppJNK3_Arr)\n",
      "Rule('MKK7_ArrBindUUJNK3', Arrestin(b1=None, b2=2, b3=None) % MKK7(b=2, state='P') + JNK3(b=None, threo='U', tyro='U') | Arrestin(b1=None, b2=2, b3=3) % MKK7(b=2, state='P') % JNK3(b=3, threo='U', tyro='U'), kf_MKK7_ArrBinduuJNK3, kr_MKK7_ArrBinduuJNK3)\n",
      "Rule('MKK7catJNK3Arr', Arrestin(b1=None, b2=2, b3=3) % MKK7(b=2, state='P') % JNK3(b=3, threo='U') >> Arrestin(b1=None, b2=2, b3=3) % MKK7(b=2, state='P') % JNK3(b=3, threo='P'), kcat_pMKK7_ArrJNK3)\n",
      "Rule('puJNK3Arr_MKK7_diss', Arrestin(b1=None, b2=2, b3=3) % MKK7(b=2, state='P') % JNK3(b=3, threo='P', tyro='U') | Arrestin(b1=None, b2=2, b3=None) % MKK7(b=2, state='P') + JNK3(b=None, threo='P', tyro='U'), kr_puJNK3Arr_MKK7, kf_puJNK3Arr_MKK7)\n",
      "Rule('upJNK3Arr_MKK7_diss', Arrestin(b1=None, b2=2, b3=3) % MKK7(b=2, state='P') % JNK3(b=3, threo='U', tyro='P') | Arrestin(b1=None, b2=2, b3=None) % MKK7(b=2, state='P') + JNK3(b=None, threo='U', tyro='P'), kr_upJNK3Arr_MKK4, kf_upJNK3Arr_MKK4)\n",
      "Rule('ppJNK3Arr_MKK7_diss', Arrestin(b1=None, b2=2, b3=3) % MKK7(b=2, state='P') % JNK3(b=3, threo='P', tyro='P') | Arrestin(b1=None, b2=2, b3=None) % MKK7(b=2, state='P') + JNK3(b=None, threo='P', tyro='P'), kr_ppJNK3_Arr, kf_ppJNK3_Arr)\n",
      "Rule('MKK4DissArr_JNK3', Arrestin(b1=None, b2=None, b3=3) % JNK3(b=3, tyro='U') + MKK4(b=None, state='P') | Arrestin(b1=None, b2=2, b3=3) % JNK3(b=3, tyro='U') % MKK4(b=2, state='P'), kf_MKK4BindArr_JNK3, kr_MKK4BindArr_JNK3)\n",
      "Rule('MKK7DissArr_JNK3', Arrestin(b1=None, b2=None, b3=3) % JNK3(b=3, threo='U') + MKK7(b=None, state='P') | Arrestin(b1=None, b2=2, b3=3) % JNK3(b=3, threo='U') % MKK7(b=2, state='P'), kf_MKK7BindArr_JNK3, kr_MKK7BindArr_JNK3)\n",
      "Rule('EqpMKK4And7', Arrestin(b1=None, b2=2, b3=3) % MKK4(b=2, state='P') % JNK3(b=3, threo='U', tyro='P') + MKK7(b=None, state='P') >> Arrestin(b1=None, b2=2, b3=3) % MKK7(b=2, state='P') % JNK3(b=3, threo='U', tyro='P') + MKK4(b=None, state='P'), keq_pMKK4_to_pMKK7)\n",
      "Rule('EqpMKK7And4', Arrestin(b1=None, b2=2, b3=3) % MKK7(b=2, state='P') % JNK3(b=3, threo='P', tyro='U') + MKK4(b=None, state='P') >> Arrestin(b1=None, b2=2, b3=3) % MKK4(b=2, state='P') % JNK3(b=3, threo='P', tyro='U') + MKK7(b=None, state='P'), keq_pMKK7_to_pMKK4)\n",
      "Rule('MKK4BindJNK3', MKK4(b=None, state='P') + JNK3(b=None, tyro='U') | MKK4(b=1, state='P') % JNK3(b=1, tyro='U'), kf_MKK4_uJNK3, kr_MKK4_uJNK3)\n",
      "Rule('MKK4catJNK3', MKK4(b=1, state='P') % JNK3(b=1, tyro='U') >> MKK4(b=1, state='P') % JNK3(b=1, tyro='P'), kcat_pMKK4_ArrJNK3)\n",
      "Rule('pJNK3_MKK4complex_diss', MKK4(b=1, state='P') % JNK3(b=1, tyro='P') | MKK4(b=None, state='P') + JNK3(b=None, tyro='P'), kr_pJNK3_MKK4complex, kf_pJNK3_MKK4complex)\n",
      "Rule('MKK7BindJNK3', MKK7(b=None, state='P') + JNK3(b=None, threo='U') | MKK7(b=1, state='P') % JNK3(b=1, threo='U'), kf_MKK7_uJNK3, kr_MKK7_uJNK3)\n",
      "Rule('MKK7catJNK3', MKK7(b=1, state='P') % JNK3(b=1, threo='U') >> MKK7(b=1, state='P') % JNK3(b=1, threo='P'), kcat_pMKK7_ArrJNK3)\n",
      "Rule('pJNK3_MKK7complex_diss', MKK7(b=1, state='P') % JNK3(b=1, threo='P') | MKK7(b=None, state='P') + JNK3(b=None, threo='P'), kr_pJNK3_MKK7complex, kf_pJNK3_MKK7complex)\n"
     ]
    }
   ],
   "source": [
    "# Model rules\n",
    "for i in model.rules: print i"
   ]
  },
  {
   "cell_type": "code",
   "execution_count": 16,
   "metadata": {},
   "outputs": [
    {
     "name": "stdout",
     "output_type": "stream",
     "text": [
      "{'reactants': (0, 1), 'products': (4,), 'rate': __s0*__s1*kf_pMKK4_Arr, 'rule': ('pMKK4BindArr',), 'reverse': (False,)}\n",
      "{'reactants': (0, 2), 'products': (5,), 'rate': __s0*__s2*kf_pMKK7_Arr, 'rule': ('pMKK7BindArr',), 'reverse': (False,)}\n",
      "{'reactants': (0, 3), 'products': (6,), 'rate': __s0*__s3*kf_JNK3_Arr, 'rule': ('uuJNK3BindArr',), 'reverse': (False,)}\n",
      "{'reactants': (1, 3), 'products': (7,), 'rate': __s1*__s3*kf_MKK4_uJNK3, 'rule': ('MKK4BindJNK3',), 'reverse': (False,)}\n",
      "{'reactants': (2, 3), 'products': (8,), 'rate': __s2*__s3*kf_MKK7_uJNK3, 'rule': ('MKK7BindJNK3',), 'reverse': (False,)}\n",
      "{'reactants': (4,), 'products': (0, 1), 'rate': __s4*kr_pMKK4_Arr, 'rule': ('pMKK4BindArr',), 'reverse': (True,)}\n",
      "{'reactants': (5,), 'products': (0, 2), 'rate': __s5*kr_pMKK7_Arr, 'rule': ('pMKK7BindArr',), 'reverse': (True,)}\n",
      "{'reactants': (6,), 'products': (0, 3), 'rate': __s6*kr_JNK3_Arr, 'rule': ('uuJNK3BindArr',), 'reverse': (True,)}\n",
      "{'reactants': (3, 4), 'products': (9,), 'rate': __s3*__s4*kf_MKK4_ArrBinduuJNK3, 'rule': ('MKK4_ArrBinduuJNK3',), 'reverse': (False,)}\n",
      "{'reactants': (3, 5), 'products': (10,), 'rate': __s3*__s5*kf_MKK7_ArrBinduuJNK3, 'rule': ('MKK7_ArrBindUUJNK3',), 'reverse': (False,)}\n",
      "{'reactants': (1, 6), 'products': (9,), 'rate': __s1*__s6*kf_MKK4BindArr_JNK3, 'rule': ('MKK4DissArr_JNK3',), 'reverse': (False,)}\n",
      "{'reactants': (2, 6), 'products': (10,), 'rate': __s2*__s6*kf_MKK7BindArr_JNK3, 'rule': ('MKK7DissArr_JNK3',), 'reverse': (False,)}\n",
      "{'reactants': (7,), 'products': (1, 3), 'rate': __s7*kr_MKK4_uJNK3, 'rule': ('MKK4BindJNK3',), 'reverse': (True,)}\n",
      "{'reactants': (7,), 'products': (11,), 'rate': __s7*kcat_pMKK4_ArrJNK3, 'rule': ('MKK4catJNK3',), 'reverse': (False,)}\n",
      "{'reactants': (8,), 'products': (2, 3), 'rate': __s8*kr_MKK7_uJNK3, 'rule': ('MKK7BindJNK3',), 'reverse': (True,)}\n",
      "{'reactants': (8,), 'products': (12,), 'rate': __s8*kcat_pMKK7_ArrJNK3, 'rule': ('MKK7catJNK3',), 'reverse': (False,)}\n",
      "{'reactants': (9,), 'products': (3, 4), 'rate': __s9*kr_MKK4_ArrBinduuJNK3, 'rule': ('MKK4_ArrBinduuJNK3',), 'reverse': (True,)}\n",
      "{'reactants': (9,), 'products': (13,), 'rate': __s9*kcat_pMKK4_ArrJNK3, 'rule': ('MKK4catJNK3Arr',), 'reverse': (False,)}\n",
      "{'reactants': (10,), 'products': (3, 5), 'rate': __s10*kr_MKK7_ArrBinduuJNK3, 'rule': ('MKK7_ArrBindUUJNK3',), 'reverse': (True,)}\n",
      "{'reactants': (10,), 'products': (14,), 'rate': __s10*kcat_pMKK7_ArrJNK3, 'rule': ('MKK7catJNK3Arr',), 'reverse': (False,)}\n",
      "{'reactants': (9,), 'products': (1, 6), 'rate': __s9*kr_MKK4BindArr_JNK3, 'rule': ('MKK4DissArr_JNK3',), 'reverse': (True,)}\n",
      "{'reactants': (10,), 'products': (2, 6), 'rate': __s10*kr_MKK7BindArr_JNK3, 'rule': ('MKK7DissArr_JNK3',), 'reverse': (True,)}\n",
      "{'reactants': (11,), 'products': (1, 15), 'rate': __s11*kr_pJNK3_MKK4complex, 'rule': ('pJNK3_MKK4complex_diss',), 'reverse': (False,)}\n",
      "{'reactants': (12,), 'products': (2, 16), 'rate': __s12*kr_pJNK3_MKK7complex, 'rule': ('pJNK3_MKK7complex_diss',), 'reverse': (False,)}\n",
      "{'reactants': (0, 15), 'products': (17,), 'rate': __s0*__s15*kf_upJNK3Arr_MKK4, 'rule': ('upJNK3BindArr',), 'reverse': (False,)}\n",
      "{'reactants': (0, 16), 'products': (18,), 'rate': __s0*__s16*kf_puJNK3Arr_MKK7, 'rule': ('puJNK3BindArr',), 'reverse': (False,)}\n",
      "{'reactants': (13,), 'products': (4, 15), 'rate': __s13*kr_upJNK3Arr_MKK4, 'rule': ('upJNK3Arr_MKK4_diss',), 'reverse': (False,)}\n",
      "{'reactants': (4, 15), 'products': (13,), 'rate': __s15*__s4*kf_upJNK3Arr_MKK4, 'rule': ('upJNK3Arr_MKK4_diss',), 'reverse': (True,)}\n",
      "{'reactants': (4, 16), 'products': (19,), 'rate': __s16*__s4*kf_puJNK3Arr_MKK7, 'rule': ('puJNK3Arr_MKK4_diss',), 'reverse': (True,)}\n",
      "{'reactants': (14,), 'products': (5, 16), 'rate': __s14*kr_puJNK3Arr_MKK7, 'rule': ('puJNK3Arr_MKK7_diss',), 'reverse': (False,)}\n",
      "{'reactants': (5, 16), 'products': (14,), 'rate': __s16*__s5*kf_puJNK3Arr_MKK7, 'rule': ('puJNK3Arr_MKK7_diss',), 'reverse': (True,)}\n",
      "{'reactants': (5, 15), 'products': (20,), 'rate': __s15*__s5*kf_upJNK3Arr_MKK4, 'rule': ('upJNK3Arr_MKK7_diss',), 'reverse': (True,)}\n",
      "{'reactants': (2, 13), 'products': (1, 20), 'rate': __s13*__s2*keq_pMKK4_to_pMKK7, 'rule': ('EqpMKK4And7',), 'reverse': (False,)}\n",
      "{'reactants': (1, 14), 'products': (2, 19), 'rate': __s1*__s14*keq_pMKK7_to_pMKK4, 'rule': ('EqpMKK7And4',), 'reverse': (False,)}\n",
      "{'reactants': (1, 16), 'products': (21,), 'rate': __s1*__s16*kf_MKK4_uJNK3, 'rule': ('MKK4BindJNK3',), 'reverse': (False,)}\n",
      "{'reactants': (1, 15), 'products': (11,), 'rate': __s1*__s15*kf_pJNK3_MKK4complex, 'rule': ('pJNK3_MKK4complex_diss',), 'reverse': (True,)}\n",
      "{'reactants': (2, 15), 'products': (22,), 'rate': __s15*__s2*kf_MKK7_uJNK3, 'rule': ('MKK7BindJNK3',), 'reverse': (False,)}\n",
      "{'reactants': (2, 16), 'products': (12,), 'rate': __s16*__s2*kf_pJNK3_MKK7complex, 'rule': ('pJNK3_MKK7complex_diss',), 'reverse': (True,)}\n",
      "{'reactants': (17,), 'products': (0, 15), 'rate': __s17*kr_upJNK3Arr_MKK4, 'rule': ('upJNK3BindArr',), 'reverse': (True,)}\n",
      "{'reactants': (18,), 'products': (0, 16), 'rate': __s18*kr_puJNK3Arr_MKK7, 'rule': ('puJNK3BindArr',), 'reverse': (True,)}\n",
      "{'reactants': (19,), 'products': (23,), 'rate': __s19*kcat_pMKK4_ArrJNK3, 'rule': ('MKK4catJNK3Arr',), 'reverse': (False,)}\n",
      "{'reactants': (19,), 'products': (4, 16), 'rate': __s19*kr_puJNK3Arr_MKK7, 'rule': ('puJNK3Arr_MKK4_diss',), 'reverse': (False,)}\n",
      "{'reactants': (20,), 'products': (24,), 'rate': __s20*kcat_pMKK7_ArrJNK3, 'rule': ('MKK7catJNK3Arr',), 'reverse': (False,)}\n",
      "{'reactants': (20,), 'products': (5, 15), 'rate': __s20*kr_upJNK3Arr_MKK4, 'rule': ('upJNK3Arr_MKK7_diss',), 'reverse': (False,)}\n",
      "{'reactants': (1, 18), 'products': (19,), 'rate': __s1*__s18*kf_MKK4BindArr_JNK3, 'rule': ('MKK4DissArr_JNK3',), 'reverse': (False,)}\n",
      "{'reactants': (19,), 'products': (1, 18), 'rate': __s19*kr_MKK4BindArr_JNK3, 'rule': ('MKK4DissArr_JNK3',), 'reverse': (True,)}\n",
      "{'reactants': (2, 17), 'products': (20,), 'rate': __s17*__s2*kf_MKK7BindArr_JNK3, 'rule': ('MKK7DissArr_JNK3',), 'reverse': (False,)}\n",
      "{'reactants': (20,), 'products': (2, 17), 'rate': __s20*kr_MKK7BindArr_JNK3, 'rule': ('MKK7DissArr_JNK3',), 'reverse': (True,)}\n",
      "{'reactants': (21,), 'products': (1, 16), 'rate': __s21*kr_MKK4_uJNK3, 'rule': ('MKK4BindJNK3',), 'reverse': (True,)}\n",
      "{'reactants': (21,), 'products': (25,), 'rate': __s21*kcat_pMKK4_ArrJNK3, 'rule': ('MKK4catJNK3',), 'reverse': (False,)}\n",
      "{'reactants': (22,), 'products': (2, 15), 'rate': __s22*kr_MKK7_uJNK3, 'rule': ('MKK7BindJNK3',), 'reverse': (True,)}\n",
      "{'reactants': (22,), 'products': (26,), 'rate': __s22*kcat_pMKK7_ArrJNK3, 'rule': ('MKK7catJNK3',), 'reverse': (False,)}\n",
      "{'reactants': (23,), 'products': (4, 27), 'rate': __s23*kr_ppJNK3_Arr, 'rule': ('ppJNK3Arr_MKK4_diss',), 'reverse': (False,)}\n",
      "{'reactants': (24,), 'products': (5, 27), 'rate': __s24*kr_ppJNK3_Arr, 'rule': ('ppJNK3Arr_MKK7_diss',), 'reverse': (False,)}\n",
      "{'reactants': (25,), 'products': (1, 27), 'rate': __s25*kr_pJNK3_MKK4complex, 'rule': ('pJNK3_MKK4complex_diss',), 'reverse': (False,)}\n",
      "{'reactants': (26,), 'products': (2, 27), 'rate': __s26*kr_pJNK3_MKK7complex, 'rule': ('pJNK3_MKK7complex_diss',), 'reverse': (False,)}\n",
      "{'reactants': (4, 27), 'products': (23,), 'rate': __s27*__s4*kf_ppJNK3_Arr, 'rule': ('ppJNK3Arr_MKK4_diss',), 'reverse': (True,)}\n",
      "{'reactants': (5, 27), 'products': (24,), 'rate': __s27*__s5*kf_ppJNK3_Arr, 'rule': ('ppJNK3Arr_MKK7_diss',), 'reverse': (True,)}\n",
      "{'reactants': (1, 27), 'products': (25,), 'rate': __s1*__s27*kf_pJNK3_MKK4complex, 'rule': ('pJNK3_MKK4complex_diss',), 'reverse': (True,)}\n",
      "{'reactants': (2, 27), 'products': (26,), 'rate': __s2*__s27*kf_pJNK3_MKK7complex, 'rule': ('pJNK3_MKK7complex_diss',), 'reverse': (True,)}\n"
     ]
    }
   ],
   "source": [
    "# Model reations\n",
    "for i in model.reactions: print i"
   ]
  },
  {
   "cell_type": "code",
   "execution_count": 13,
   "metadata": {},
   "outputs": [
    {
     "name": "stdout",
     "output_type": "stream",
     "text": [
      "Arrestin(b1=None, b2=None, b3=None)\n",
      "MKK4(b=None, state='P')\n",
      "MKK7(b=None, state='P')\n",
      "JNK3(b=None, threo='U', tyro='U')\n",
      "Arrestin(b1=None, b2=1, b3=None) % MKK4(b=1, state='P')\n",
      "Arrestin(b1=None, b2=1, b3=None) % MKK7(b=1, state='P')\n",
      "Arrestin(b1=None, b2=None, b3=1) % JNK3(b=1, threo='U', tyro='U')\n",
      "JNK3(b=1, threo='U', tyro='U') % MKK4(b=1, state='P')\n",
      "JNK3(b=1, threo='U', tyro='U') % MKK7(b=1, state='P')\n",
      "Arrestin(b1=None, b2=1, b3=2) % JNK3(b=2, threo='U', tyro='U') % MKK4(b=1, state='P')\n",
      "Arrestin(b1=None, b2=1, b3=2) % JNK3(b=2, threo='U', tyro='U') % MKK7(b=1, state='P')\n",
      "JNK3(b=1, threo='U', tyro='P') % MKK4(b=1, state='P')\n",
      "JNK3(b=1, threo='P', tyro='U') % MKK7(b=1, state='P')\n",
      "Arrestin(b1=None, b2=1, b3=2) % JNK3(b=2, threo='U', tyro='P') % MKK4(b=1, state='P')\n",
      "Arrestin(b1=None, b2=1, b3=2) % JNK3(b=2, threo='P', tyro='U') % MKK7(b=1, state='P')\n",
      "JNK3(b=None, threo='U', tyro='P')\n",
      "JNK3(b=None, threo='P', tyro='U')\n",
      "Arrestin(b1=None, b2=None, b3=1) % JNK3(b=1, threo='U', tyro='P')\n",
      "Arrestin(b1=None, b2=None, b3=1) % JNK3(b=1, threo='P', tyro='U')\n",
      "Arrestin(b1=None, b2=1, b3=2) % JNK3(b=2, threo='P', tyro='U') % MKK4(b=1, state='P')\n",
      "Arrestin(b1=None, b2=1, b3=2) % JNK3(b=2, threo='U', tyro='P') % MKK7(b=1, state='P')\n",
      "JNK3(b=1, threo='P', tyro='U') % MKK4(b=1, state='P')\n",
      "JNK3(b=1, threo='U', tyro='P') % MKK7(b=1, state='P')\n",
      "Arrestin(b1=None, b2=1, b3=2) % JNK3(b=2, threo='P', tyro='P') % MKK4(b=1, state='P')\n",
      "Arrestin(b1=None, b2=1, b3=2) % JNK3(b=2, threo='P', tyro='P') % MKK7(b=1, state='P')\n",
      "JNK3(b=1, threo='P', tyro='P') % MKK4(b=1, state='P')\n",
      "JNK3(b=1, threo='P', tyro='P') % MKK7(b=1, state='P')\n",
      "JNK3(b=None, threo='P', tyro='P')\n"
     ]
    }
   ],
   "source": [
    "# Model species\n",
    "generate_equations(model)\n",
    "for i in model.species: print i"
   ]
  },
  {
   "cell_type": "code",
   "execution_count": 17,
   "metadata": {},
   "outputs": [
    {
     "name": "stdout",
     "output_type": "stream",
     "text": [
      "__s17*kr_upJNK3Arr_MKK4 + __s18*kr_puJNK3Arr_MKK7 + __s4*kr_pMKK4_Arr + __s5*kr_pMKK7_Arr + __s6*kr_JNK3_Arr + (__s0*__s1*kf_pMKK4_Arr)*(-1) + (__s0*__s15*kf_upJNK3Arr_MKK4)*(-1) + (__s0*__s16*kf_puJNK3Arr_MKK7)*(-1) + (__s0*__s2*kf_pMKK7_Arr)*(-1) + (__s0*__s3*kf_JNK3_Arr)*(-1)\n",
      "__s11*kr_pJNK3_MKK4complex + __s13*__s2*keq_pMKK4_to_pMKK7 + __s19*kr_MKK4BindArr_JNK3 + __s21*kr_MKK4_uJNK3 + __s25*kr_pJNK3_MKK4complex + __s4*kr_pMKK4_Arr + __s7*kr_MKK4_uJNK3 + __s9*kr_MKK4BindArr_JNK3 + (__s0*__s1*kf_pMKK4_Arr)*(-1) + (__s1*__s14*keq_pMKK7_to_pMKK4)*(-1) + (__s1*__s15*kf_pJNK3_MKK4complex)*(-1) + (__s1*__s16*kf_MKK4_uJNK3)*(-1) + (__s1*__s18*kf_MKK4BindArr_JNK3)*(-1) + (__s1*__s27*kf_pJNK3_MKK4complex)*(-1) + (__s1*__s3*kf_MKK4_uJNK3)*(-1) + (__s1*__s6*kf_MKK4BindArr_JNK3)*(-1)\n",
      "__s1*__s14*keq_pMKK7_to_pMKK4 + __s10*kr_MKK7BindArr_JNK3 + __s12*kr_pJNK3_MKK7complex + __s20*kr_MKK7BindArr_JNK3 + __s22*kr_MKK7_uJNK3 + __s26*kr_pJNK3_MKK7complex + __s5*kr_pMKK7_Arr + __s8*kr_MKK7_uJNK3 + (__s0*__s2*kf_pMKK7_Arr)*(-1) + (__s13*__s2*keq_pMKK4_to_pMKK7)*(-1) + (__s15*__s2*kf_MKK7_uJNK3)*(-1) + (__s16*__s2*kf_pJNK3_MKK7complex)*(-1) + (__s17*__s2*kf_MKK7BindArr_JNK3)*(-1) + (__s2*__s27*kf_pJNK3_MKK7complex)*(-1) + (__s2*__s3*kf_MKK7_uJNK3)*(-1) + (__s2*__s6*kf_MKK7BindArr_JNK3)*(-1)\n",
      "__s10*kr_MKK7_ArrBinduuJNK3 + __s6*kr_JNK3_Arr + __s7*kr_MKK4_uJNK3 + __s8*kr_MKK7_uJNK3 + __s9*kr_MKK4_ArrBinduuJNK3 + (__s0*__s3*kf_JNK3_Arr)*(-1) + (__s1*__s3*kf_MKK4_uJNK3)*(-1) + (__s2*__s3*kf_MKK7_uJNK3)*(-1) + (__s3*__s4*kf_MKK4_ArrBinduuJNK3)*(-1) + (__s3*__s5*kf_MKK7_ArrBinduuJNK3)*(-1)\n",
      "__s0*__s1*kf_pMKK4_Arr + __s13*kr_upJNK3Arr_MKK4 + __s19*kr_puJNK3Arr_MKK7 + __s23*kr_ppJNK3_Arr + __s9*kr_MKK4_ArrBinduuJNK3 + (__s4*kr_pMKK4_Arr)*(-1) + (__s15*__s4*kf_upJNK3Arr_MKK4)*(-1) + (__s16*__s4*kf_puJNK3Arr_MKK7)*(-1) + (__s27*__s4*kf_ppJNK3_Arr)*(-1) + (__s3*__s4*kf_MKK4_ArrBinduuJNK3)*(-1)\n",
      "__s0*__s2*kf_pMKK7_Arr + __s10*kr_MKK7_ArrBinduuJNK3 + __s14*kr_puJNK3Arr_MKK7 + __s20*kr_upJNK3Arr_MKK4 + __s24*kr_ppJNK3_Arr + (__s5*kr_pMKK7_Arr)*(-1) + (__s15*__s5*kf_upJNK3Arr_MKK4)*(-1) + (__s16*__s5*kf_puJNK3Arr_MKK7)*(-1) + (__s27*__s5*kf_ppJNK3_Arr)*(-1) + (__s3*__s5*kf_MKK7_ArrBinduuJNK3)*(-1)\n",
      "__s0*__s3*kf_JNK3_Arr + __s10*kr_MKK7BindArr_JNK3 + __s9*kr_MKK4BindArr_JNK3 + (__s6*kr_JNK3_Arr)*(-1) + (__s1*__s6*kf_MKK4BindArr_JNK3)*(-1) + (__s2*__s6*kf_MKK7BindArr_JNK3)*(-1)\n",
      "__s1*__s3*kf_MKK4_uJNK3 + (__s7*kcat_pMKK4_ArrJNK3)*(-1) + (__s7*kr_MKK4_uJNK3)*(-1)\n",
      "__s2*__s3*kf_MKK7_uJNK3 + (__s8*kcat_pMKK7_ArrJNK3)*(-1) + (__s8*kr_MKK7_uJNK3)*(-1)\n",
      "__s1*__s6*kf_MKK4BindArr_JNK3 + __s3*__s4*kf_MKK4_ArrBinduuJNK3 + (__s9*kcat_pMKK4_ArrJNK3)*(-1) + (__s9*kr_MKK4BindArr_JNK3)*(-1) + (__s9*kr_MKK4_ArrBinduuJNK3)*(-1)\n",
      "__s2*__s6*kf_MKK7BindArr_JNK3 + __s3*__s5*kf_MKK7_ArrBinduuJNK3 + (__s10*kcat_pMKK7_ArrJNK3)*(-1) + (__s10*kr_MKK7BindArr_JNK3)*(-1) + (__s10*kr_MKK7_ArrBinduuJNK3)*(-1)\n",
      "__s1*__s15*kf_pJNK3_MKK4complex + __s7*kcat_pMKK4_ArrJNK3 + (__s11*kr_pJNK3_MKK4complex)*(-1)\n",
      "__s16*__s2*kf_pJNK3_MKK7complex + __s8*kcat_pMKK7_ArrJNK3 + (__s12*kr_pJNK3_MKK7complex)*(-1)\n",
      "__s15*__s4*kf_upJNK3Arr_MKK4 + __s9*kcat_pMKK4_ArrJNK3 + (__s13*kr_upJNK3Arr_MKK4)*(-1) + (__s13*__s2*keq_pMKK4_to_pMKK7)*(-1)\n",
      "__s10*kcat_pMKK7_ArrJNK3 + __s16*__s5*kf_puJNK3Arr_MKK7 + (__s14*kr_puJNK3Arr_MKK7)*(-1) + (__s1*__s14*keq_pMKK7_to_pMKK4)*(-1)\n",
      "__s11*kr_pJNK3_MKK4complex + __s13*kr_upJNK3Arr_MKK4 + __s17*kr_upJNK3Arr_MKK4 + __s20*kr_upJNK3Arr_MKK4 + __s22*kr_MKK7_uJNK3 + (__s0*__s15*kf_upJNK3Arr_MKK4)*(-1) + (__s1*__s15*kf_pJNK3_MKK4complex)*(-1) + (__s15*__s2*kf_MKK7_uJNK3)*(-1) + (__s15*__s4*kf_upJNK3Arr_MKK4)*(-1) + (__s15*__s5*kf_upJNK3Arr_MKK4)*(-1)\n",
      "__s12*kr_pJNK3_MKK7complex + __s14*kr_puJNK3Arr_MKK7 + __s18*kr_puJNK3Arr_MKK7 + __s19*kr_puJNK3Arr_MKK7 + __s21*kr_MKK4_uJNK3 + (__s0*__s16*kf_puJNK3Arr_MKK7)*(-1) + (__s1*__s16*kf_MKK4_uJNK3)*(-1) + (__s16*__s2*kf_pJNK3_MKK7complex)*(-1) + (__s16*__s4*kf_puJNK3Arr_MKK7)*(-1) + (__s16*__s5*kf_puJNK3Arr_MKK7)*(-1)\n",
      "__s0*__s15*kf_upJNK3Arr_MKK4 + __s20*kr_MKK7BindArr_JNK3 + (__s17*kr_upJNK3Arr_MKK4)*(-1) + (__s17*__s2*kf_MKK7BindArr_JNK3)*(-1)\n",
      "__s0*__s16*kf_puJNK3Arr_MKK7 + __s19*kr_MKK4BindArr_JNK3 + (__s18*kr_puJNK3Arr_MKK7)*(-1) + (__s1*__s18*kf_MKK4BindArr_JNK3)*(-1)\n",
      "__s1*__s14*keq_pMKK7_to_pMKK4 + __s1*__s18*kf_MKK4BindArr_JNK3 + __s16*__s4*kf_puJNK3Arr_MKK7 + (__s19*kcat_pMKK4_ArrJNK3)*(-1) + (__s19*kr_MKK4BindArr_JNK3)*(-1) + (__s19*kr_puJNK3Arr_MKK7)*(-1)\n",
      "__s13*__s2*keq_pMKK4_to_pMKK7 + __s15*__s5*kf_upJNK3Arr_MKK4 + __s17*__s2*kf_MKK7BindArr_JNK3 + (__s20*kcat_pMKK7_ArrJNK3)*(-1) + (__s20*kr_MKK7BindArr_JNK3)*(-1) + (__s20*kr_upJNK3Arr_MKK4)*(-1)\n",
      "__s1*__s16*kf_MKK4_uJNK3 + (__s21*kcat_pMKK4_ArrJNK3)*(-1) + (__s21*kr_MKK4_uJNK3)*(-1)\n",
      "__s15*__s2*kf_MKK7_uJNK3 + (__s22*kcat_pMKK7_ArrJNK3)*(-1) + (__s22*kr_MKK7_uJNK3)*(-1)\n",
      "__s19*kcat_pMKK4_ArrJNK3 + __s27*__s4*kf_ppJNK3_Arr + (__s23*kr_ppJNK3_Arr)*(-1)\n",
      "__s20*kcat_pMKK7_ArrJNK3 + __s27*__s5*kf_ppJNK3_Arr + (__s24*kr_ppJNK3_Arr)*(-1)\n",
      "__s1*__s27*kf_pJNK3_MKK4complex + __s21*kcat_pMKK4_ArrJNK3 + (__s25*kr_pJNK3_MKK4complex)*(-1)\n",
      "__s2*__s27*kf_pJNK3_MKK7complex + __s22*kcat_pMKK7_ArrJNK3 + (__s26*kr_pJNK3_MKK7complex)*(-1)\n",
      "__s23*kr_ppJNK3_Arr + __s24*kr_ppJNK3_Arr + __s25*kr_pJNK3_MKK4complex + __s26*kr_pJNK3_MKK7complex + (__s1*__s27*kf_pJNK3_MKK4complex)*(-1) + (__s2*__s27*kf_pJNK3_MKK7complex)*(-1) + (__s27*__s4*kf_ppJNK3_Arr)*(-1) + (__s27*__s5*kf_ppJNK3_Arr)*(-1)\n"
     ]
    }
   ],
   "source": [
    "# Model ordinary differential equations\n",
    "for i in model.odes: print i"
   ]
  }
 ],
 "metadata": {
  "kernelspec": {
   "display_name": "Python 2",
   "language": "python",
   "name": "python2"
  },
  "language_info": {
   "codemirror_mode": {
    "name": "ipython",
    "version": 2
   },
   "file_extension": ".py",
   "mimetype": "text/x-python",
   "name": "python",
   "nbconvert_exporter": "python",
   "pygments_lexer": "ipython2",
   "version": "2.7.13"
  }
 },
 "nbformat": 4,
 "nbformat_minor": 2
}
