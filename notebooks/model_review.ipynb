{
 "cells": [
  {
   "cell_type": "code",
   "execution_count": 1,
   "metadata": {},
   "outputs": [],
   "source": [
    "# Importing model\n",
    "import sys\n",
    "sys.path.append(\"..\")\n",
    "from model_analysis.jnk3_no_ask1 import model\n",
    "from pysb.bng import generate_equations"
   ]
  },
  {
   "cell_type": "code",
   "execution_count": 2,
   "metadata": {},
   "outputs": [],
   "source": [
    "generate_equations(model)"
   ]
  },
  {
   "cell_type": "code",
   "execution_count": 3,
   "metadata": {},
   "outputs": [
    {
     "name": "stdout",
     "output_type": "stream",
     "text": [
      "Monomer('Arrestin', ['b1', 'b2', 'b3'])\n",
      "Monomer('MKK4', ['b', 'state'], {'state': ['U', 'P']})\n",
      "Monomer('MKK7', ['b', 'state'], {'state': ['U', 'P']})\n",
      "Monomer('JNK3', ['b', 'threo', 'tyro'], {'threo': ['U', 'P'], 'tyro': ['U', 'P']})\n"
     ]
    }
   ],
   "source": [
    "# Model monomers\n",
    "for i in model.monomers: print (i)"
   ]
  },
  {
   "cell_type": "code",
   "execution_count": 4,
   "metadata": {},
   "outputs": [
    {
     "name": "stdout",
     "output_type": "stream",
     "text": [
      "Parameter('kf_pMKK4_Arr', 2.0)\n",
      "Parameter('kr_pMKK4_Arr', 240.0)\n",
      "Parameter('kf_pMKK7_Arr', 2.0)\n",
      "Parameter('kr_pMKK7_Arr', 26.0)\n",
      "Parameter('kf_MKK4_Arr_bind_uuJNK3', 2.0)\n",
      "Parameter('kr_MKK4_Arr_bind_uuJNK3', 2.8)\n",
      "Parameter('kf_upJNK3BindArr', 2.0)\n",
      "Parameter('kr_upJNK3BindArr', 20.0)\n",
      "Parameter('kf_upJNK3_bind_Arr_MKK4', 2.0)\n",
      "Parameter('kr_upJNK3_bind_Arr_MKK4', 8.4)\n",
      "Parameter('kf_upJNK3_bind_Arr_MKK7', 2.0)\n",
      "Parameter('kr_upJNK3_bind_Arr_MKK7', 8.4)\n",
      "Parameter('kf_puJNK3BindArr', 2.0)\n",
      "Parameter('kr_puJNK3BindArr', 20.0)\n",
      "Parameter('kf_puJNK3_bind_Arr_MKK4', 2.0)\n",
      "Parameter('kr_puJNK3_bind_Arr_MKK4', 21.0)\n",
      "Parameter('kf_puJNK3_bind_Arr_MKK7', 2.0)\n",
      "Parameter('kr_puJNK3_bind_Arr_MKK7', 21.0)\n",
      "Parameter('kf_ppJNK3_Arr', 2.0)\n",
      "Parameter('kr_ppJNK3_Arr', 32.0)\n",
      "Parameter('kf_uuJNK3_Arr', 2.0)\n",
      "Parameter('kr_uuJNK3_Arr', 2.2)\n",
      "Parameter('kf_MKK4BindArr_uuJNK3', 2.0)\n",
      "Parameter('kr_MKK4BindArr_uuJNK3', 80.0)\n",
      "Parameter('kf_MKK7BindArr_JNK3', 2.0)\n",
      "Parameter('kr_MKK7BindArr_JNK3', 60.0)\n",
      "Parameter('kf_MKK7_Arr_bind_uuJNK3', 2.0)\n",
      "Parameter('kr_MKK7_Arr_bind_uuJNK3', 2.8)\n",
      "Parameter('kf_MKK4_uuJNK3', 2.0)\n",
      "Parameter('kr_MKK4_uuJNK3', 80.0)\n",
      "Parameter('kf_MKK4_puJNK3', 2.0)\n",
      "Parameter('kr_MKK4_puJNK3', 80.0)\n",
      "Parameter('kf_MKK7_uuJNK3', 2.0)\n",
      "Parameter('kr_MKK7_uuJNK3', 60.0)\n",
      "Parameter('kf_MKK7_upJNK3', 2.0)\n",
      "Parameter('kr_MKK7_upJNK3', 60.0)\n",
      "Parameter('kcat_pMKK4_ArrJNK3', 1.0)\n",
      "Parameter('kcat_pMKK7_ArrJNK3', 1.0)\n",
      "Parameter('keq_pMKK4_to_pMKK7', 1.0)\n",
      "Parameter('keq_pMKK7_to_pMKK4', 1.0)\n",
      "Parameter('kf_pJNK3_MKK4complex', 2.0)\n",
      "Parameter('kr_pJNK3_MKK4complex', 80.0)\n",
      "Parameter('kf_pJNK3_MKK7complex', 2.0)\n",
      "Parameter('kr_pJNK3_MKK7complex', 60.0)\n",
      "Parameter('Arrestin_0', 5.0)\n",
      "Parameter('pMKK4_0', 0.05)\n",
      "Parameter('pMKK7_0', 0.05)\n",
      "Parameter('uuJNK3_0', 0.593211087)\n",
      "Parameter('puJNK3_0', 0.0)\n",
      "Parameter('upJNK3_0', 0.006788913)\n"
     ]
    }
   ],
   "source": [
    "# Model parameters\n",
    "for i in model.parameters: print (i)"
   ]
  },
  {
   "cell_type": "code",
   "execution_count": 5,
   "metadata": {},
   "outputs": [
    {
     "name": "stdout",
     "output_type": "stream",
     "text": [
      "Rule('pMKK4BindArr', Arrestin(b1=None, b2=None, b3=None) + MKK4(b=None, state='P') | Arrestin(b1=None, b2=2, b3=None) % MKK4(b=2, state='P'), kf_pMKK4_Arr, kr_pMKK4_Arr)\n",
      "Rule('pMKK7BindArr', Arrestin(b1=None, b2=None, b3=None) + MKK7(b=None, state='P') | Arrestin(b1=None, b2=2, b3=None) % MKK7(b=2, state='P'), kf_pMKK7_Arr, kr_pMKK7_Arr)\n",
      "Rule('uuJNK3BindArr', Arrestin(b1=None, b2=None, b3=None) + JNK3(b=None, threo='U', tyro='U') | Arrestin(b1=None, b2=None, b3=3) % JNK3(b=3, threo='U', tyro='U'), kf_uuJNK3_Arr, kr_uuJNK3_Arr)\n",
      "Rule('upJNK3BindArr', Arrestin(b1=None, b2=None, b3=None) + JNK3(b=None, threo='U', tyro='P') | Arrestin(b1=None, b2=None, b3=3) % JNK3(b=3, threo='U', tyro='P'), kf_upJNK3BindArr, kr_upJNK3BindArr)\n",
      "Rule('puJNK3BindArr', Arrestin(b1=None, b2=None, b3=None) + JNK3(b=None, threo='P', tyro='U') | Arrestin(b1=None, b2=None, b3=3) % JNK3(b=3, threo='P', tyro='U'), kf_puJNK3BindArr, kr_puJNK3BindArr)\n",
      "Rule('MKK4_ArrBinduuJNK3', Arrestin(b1=None, b2=2, b3=None) % MKK4(b=2, state='P') + JNK3(b=None, threo='U', tyro='U') | Arrestin(b1=None, b2=2, b3=3) % MKK4(b=2, state='P') % JNK3(b=3, threo='U', tyro='U'), kf_MKK4_Arr_bind_uuJNK3, kr_MKK4_Arr_bind_uuJNK3)\n",
      "Rule('MKK4catJNK3Arr', Arrestin(b1=None, b2=2, b3=3) % MKK4(b=2, state='P') % JNK3(b=3, tyro='U') >> Arrestin(b1=None, b2=2, b3=3) % MKK4(b=2, state='P') % JNK3(b=3, tyro='P'), kcat_pMKK4_ArrJNK3)\n",
      "Rule('upJNK3Arr_MKK4_diss', Arrestin(b1=None, b2=2, b3=3) % MKK4(b=2, state='P') % JNK3(b=3, threo='U', tyro='P') | Arrestin(b1=None, b2=2, b3=None) % MKK4(b=2, state='P') + JNK3(b=None, threo='U', tyro='P'), kr_upJNK3_bind_Arr_MKK4, kf_upJNK3_bind_Arr_MKK4)\n",
      "Rule('puJNK3Arr_MKK4_diss', Arrestin(b1=None, b2=2, b3=3) % MKK4(b=2, state='P') % JNK3(b=3, threo='P', tyro='U') | Arrestin(b1=None, b2=2, b3=None) % MKK4(b=2, state='P') + JNK3(b=None, threo='P', tyro='U'), kr_puJNK3_bind_Arr_MKK4, kf_puJNK3_bind_Arr_MKK4)\n",
      "Rule('ppJNK3Arr_MKK4_diss', Arrestin(b1=None, b2=2, b3=3) % MKK4(b=2, state='P') % JNK3(b=3, threo='P', tyro='P') | Arrestin(b1=None, b2=2, b3=None) % MKK4(b=2, state='P') + JNK3(b=None, threo='P', tyro='P'), kr_ppJNK3_Arr, kf_ppJNK3_Arr)\n",
      "Rule('MKK7_ArrBindUUJNK3', Arrestin(b1=None, b2=2, b3=None) % MKK7(b=2, state='P') + JNK3(b=None, threo='U', tyro='U') | Arrestin(b1=None, b2=2, b3=3) % MKK7(b=2, state='P') % JNK3(b=3, threo='U', tyro='U'), kf_MKK7_Arr_bind_uuJNK3, kr_MKK7_Arr_bind_uuJNK3)\n",
      "Rule('MKK7catJNK3Arr', Arrestin(b1=None, b2=2, b3=3) % MKK7(b=2, state='P') % JNK3(b=3, threo='U') >> Arrestin(b1=None, b2=2, b3=3) % MKK7(b=2, state='P') % JNK3(b=3, threo='P'), kcat_pMKK7_ArrJNK3)\n",
      "Rule('puJNK3Arr_MKK7_diss', Arrestin(b1=None, b2=2, b3=3) % MKK7(b=2, state='P') % JNK3(b=3, threo='P', tyro='U') | Arrestin(b1=None, b2=2, b3=None) % MKK7(b=2, state='P') + JNK3(b=None, threo='P', tyro='U'), kr_puJNK3_bind_Arr_MKK7, kf_puJNK3_bind_Arr_MKK7)\n",
      "Rule('upJNK3Arr_MKK7_diss', Arrestin(b1=None, b2=2, b3=3) % MKK7(b=2, state='P') % JNK3(b=3, threo='U', tyro='P') | Arrestin(b1=None, b2=2, b3=None) % MKK7(b=2, state='P') + JNK3(b=None, threo='U', tyro='P'), kr_upJNK3_bind_Arr_MKK7, kf_upJNK3_bind_Arr_MKK7)\n",
      "Rule('ppJNK3Arr_MKK7_diss', Arrestin(b1=None, b2=2, b3=3) % MKK7(b=2, state='P') % JNK3(b=3, threo='P', tyro='P') | Arrestin(b1=None, b2=2, b3=None) % MKK7(b=2, state='P') + JNK3(b=None, threo='P', tyro='P'), kr_ppJNK3_Arr, kf_ppJNK3_Arr)\n",
      "Rule('MKK4DissArr_uuJNK3', Arrestin(b1=None, b2=None, b3=3) % JNK3(b=3, tyro='U') + MKK4(b=None, state='P') | Arrestin(b1=None, b2=2, b3=3) % JNK3(b=3, tyro='U') % MKK4(b=2, state='P'), kf_MKK4BindArr_uuJNK3, kr_MKK4BindArr_uuJNK3)\n",
      "Rule('MKK7DissArr_JNK3', Arrestin(b1=None, b2=None, b3=3) % JNK3(b=3, threo='U') + MKK7(b=None, state='P') | Arrestin(b1=None, b2=2, b3=3) % JNK3(b=3, threo='U') % MKK7(b=2, state='P'), kf_MKK7BindArr_JNK3, kr_MKK7BindArr_JNK3)\n",
      "Rule('EqpMKK4And7', Arrestin(b1=None, b2=2, b3=3) % MKK4(b=2, state='P') % JNK3(b=3, threo='U', tyro='P') + MKK7(b=None, state='P') >> Arrestin(b1=None, b2=2, b3=3) % MKK7(b=2, state='P') % JNK3(b=3, threo='U', tyro='P') + MKK4(b=None, state='P'), keq_pMKK4_to_pMKK7)\n",
      "Rule('EqpMKK7And4', Arrestin(b1=None, b2=2, b3=3) % MKK7(b=2, state='P') % JNK3(b=3, threo='P', tyro='U') + MKK4(b=None, state='P') >> Arrestin(b1=None, b2=2, b3=3) % MKK4(b=2, state='P') % JNK3(b=3, threo='P', tyro='U') + MKK7(b=None, state='P'), keq_pMKK7_to_pMKK4)\n",
      "Rule('MKK4BinduuJNK3', MKK4(b=None, state='P') + JNK3(b=None, threo='U', tyro='U') | MKK4(b=1, state='P') % JNK3(b=1, threo='U', tyro='U'), kf_MKK4_uuJNK3, kr_MKK4_uuJNK3)\n",
      "Rule('MKK4BindpuJNK3', MKK4(b=None, state='P') + JNK3(b=None, threo='P', tyro='U') | MKK4(b=1, state='P') % JNK3(b=1, threo='P', tyro='U'), kf_MKK4_puJNK3, kr_MKK4_puJNK3)\n",
      "Rule('MKK4catJNK3', MKK4(b=1, state='P') % JNK3(b=1, tyro='U') >> MKK4(b=1, state='P') % JNK3(b=1, tyro='P'), kcat_pMKK4_ArrJNK3)\n",
      "Rule('pJNK3_MKK4complex_diss', MKK4(b=1, state='P') % JNK3(b=1, tyro='P') | MKK4(b=None, state='P') + JNK3(b=None, tyro='P'), kr_pJNK3_MKK4complex, kf_pJNK3_MKK4complex)\n",
      "Rule('MKK7BinduuJNK3', MKK7(b=None, state='P') + JNK3(b=None, threo='U', tyro='U') | MKK7(b=1, state='P') % JNK3(b=1, threo='U', tyro='U'), kf_MKK7_uuJNK3, kr_MKK7_uuJNK3)\n",
      "Rule('MKK7BindupJNK3', MKK7(b=None, state='P') + JNK3(b=None, threo='U', tyro='P') | MKK7(b=1, state='P') % JNK3(b=1, threo='U', tyro='P'), kf_MKK7_upJNK3, kr_MKK7_upJNK3)\n",
      "Rule('MKK7catJNK3', MKK7(b=1, state='P') % JNK3(b=1, threo='U') >> MKK7(b=1, state='P') % JNK3(b=1, threo='P'), kcat_pMKK7_ArrJNK3)\n",
      "Rule('pJNK3_MKK7complex_diss', MKK7(b=1, state='P') % JNK3(b=1, threo='P') | MKK7(b=None, state='P') + JNK3(b=None, threo='P'), kr_pJNK3_MKK7complex, kf_pJNK3_MKK7complex)\n"
     ]
    }
   ],
   "source": [
    "# Model rules\n",
    "for i in model.rules: print (i)"
   ]
  },
  {
   "cell_type": "code",
   "execution_count": 6,
   "metadata": {},
   "outputs": [
    {
     "name": "stdout",
     "output_type": "stream",
     "text": [
      "{'reactants': (0, 1), 'products': (6,), 'rate': __s0*__s1*kf_pMKK4_Arr, 'rule': ('pMKK4BindArr',), 'reverse': (False,)}\n",
      "{'reactants': (0, 2), 'products': (7,), 'rate': __s0*__s2*kf_pMKK7_Arr, 'rule': ('pMKK7BindArr',), 'reverse': (False,)}\n",
      "{'reactants': (0, 3), 'products': (8,), 'rate': __s0*__s3*kf_uuJNK3_Arr, 'rule': ('uuJNK3BindArr',), 'reverse': (False,)}\n",
      "{'reactants': (0, 5), 'products': (9,), 'rate': __s0*__s5*kf_upJNK3BindArr, 'rule': ('upJNK3BindArr',), 'reverse': (False,)}\n",
      "{'reactants': (0, 4), 'products': (10,), 'rate': __s0*__s4*kf_puJNK3BindArr, 'rule': ('puJNK3BindArr',), 'reverse': (False,)}\n",
      "{'reactants': (1, 3), 'products': (11,), 'rate': __s1*__s3*kf_MKK4_uuJNK3, 'rule': ('MKK4BinduuJNK3',), 'reverse': (False,)}\n",
      "{'reactants': (1, 4), 'products': (12,), 'rate': __s1*__s4*kf_MKK4_puJNK3, 'rule': ('MKK4BindpuJNK3',), 'reverse': (False,)}\n",
      "{'reactants': (1, 5), 'products': (13,), 'rate': __s1*__s5*kf_pJNK3_MKK4complex, 'rule': ('pJNK3_MKK4complex_diss',), 'reverse': (True,)}\n",
      "{'reactants': (2, 3), 'products': (14,), 'rate': __s2*__s3*kf_MKK7_uuJNK3, 'rule': ('MKK7BinduuJNK3',), 'reverse': (False,)}\n",
      "{'reactants': (2, 5), 'products': (15,), 'rate': __s2*__s5*kf_MKK7_upJNK3, 'rule': ('MKK7BindupJNK3',), 'reverse': (False,)}\n",
      "{'reactants': (2, 4), 'products': (16,), 'rate': __s2*__s4*kf_pJNK3_MKK7complex, 'rule': ('pJNK3_MKK7complex_diss',), 'reverse': (True,)}\n",
      "{'reactants': (6,), 'products': (0, 1), 'rate': __s6*kr_pMKK4_Arr, 'rule': ('pMKK4BindArr',), 'reverse': (True,)}\n",
      "{'reactants': (7,), 'products': (0, 2), 'rate': __s7*kr_pMKK7_Arr, 'rule': ('pMKK7BindArr',), 'reverse': (True,)}\n",
      "{'reactants': (8,), 'products': (0, 3), 'rate': __s8*kr_uuJNK3_Arr, 'rule': ('uuJNK3BindArr',), 'reverse': (True,)}\n",
      "{'reactants': (9,), 'products': (0, 5), 'rate': __s9*kr_upJNK3BindArr, 'rule': ('upJNK3BindArr',), 'reverse': (True,)}\n",
      "{'reactants': (10,), 'products': (0, 4), 'rate': __s10*kr_puJNK3BindArr, 'rule': ('puJNK3BindArr',), 'reverse': (True,)}\n",
      "{'reactants': (3, 6), 'products': (17,), 'rate': __s3*__s6*kf_MKK4_Arr_bind_uuJNK3, 'rule': ('MKK4_ArrBinduuJNK3',), 'reverse': (False,)}\n",
      "{'reactants': (5, 6), 'products': (18,), 'rate': __s5*__s6*kf_upJNK3_bind_Arr_MKK4, 'rule': ('upJNK3Arr_MKK4_diss',), 'reverse': (True,)}\n",
      "{'reactants': (4, 6), 'products': (19,), 'rate': __s4*__s6*kf_puJNK3_bind_Arr_MKK4, 'rule': ('puJNK3Arr_MKK4_diss',), 'reverse': (True,)}\n",
      "{'reactants': (3, 7), 'products': (20,), 'rate': __s3*__s7*kf_MKK7_Arr_bind_uuJNK3, 'rule': ('MKK7_ArrBindUUJNK3',), 'reverse': (False,)}\n",
      "{'reactants': (4, 7), 'products': (21,), 'rate': __s4*__s7*kf_puJNK3_bind_Arr_MKK7, 'rule': ('puJNK3Arr_MKK7_diss',), 'reverse': (True,)}\n",
      "{'reactants': (5, 7), 'products': (22,), 'rate': __s5*__s7*kf_upJNK3_bind_Arr_MKK7, 'rule': ('upJNK3Arr_MKK7_diss',), 'reverse': (True,)}\n",
      "{'reactants': (1, 8), 'products': (17,), 'rate': __s1*__s8*kf_MKK4BindArr_uuJNK3, 'rule': ('MKK4DissArr_uuJNK3',), 'reverse': (False,)}\n",
      "{'reactants': (1, 10), 'products': (19,), 'rate': __s1*__s10*kf_MKK4BindArr_uuJNK3, 'rule': ('MKK4DissArr_uuJNK3',), 'reverse': (False,)}\n",
      "{'reactants': (2, 8), 'products': (20,), 'rate': __s2*__s8*kf_MKK7BindArr_JNK3, 'rule': ('MKK7DissArr_JNK3',), 'reverse': (False,)}\n",
      "{'reactants': (2, 9), 'products': (22,), 'rate': __s2*__s9*kf_MKK7BindArr_JNK3, 'rule': ('MKK7DissArr_JNK3',), 'reverse': (False,)}\n",
      "{'reactants': (11,), 'products': (1, 3), 'rate': __s11*kr_MKK4_uuJNK3, 'rule': ('MKK4BinduuJNK3',), 'reverse': (True,)}\n",
      "{'reactants': (12,), 'products': (1, 4), 'rate': __s12*kr_MKK4_puJNK3, 'rule': ('MKK4BindpuJNK3',), 'reverse': (True,)}\n",
      "{'reactants': (11,), 'products': (13,), 'rate': __s11*kcat_pMKK4_ArrJNK3, 'rule': ('MKK4catJNK3',), 'reverse': (False,)}\n",
      "{'reactants': (12,), 'products': (23,), 'rate': __s12*kcat_pMKK4_ArrJNK3, 'rule': ('MKK4catJNK3',), 'reverse': (False,)}\n",
      "{'reactants': (13,), 'products': (1, 5), 'rate': __s13*kr_pJNK3_MKK4complex, 'rule': ('pJNK3_MKK4complex_diss',), 'reverse': (False,)}\n",
      "{'reactants': (14,), 'products': (2, 3), 'rate': __s14*kr_MKK7_uuJNK3, 'rule': ('MKK7BinduuJNK3',), 'reverse': (True,)}\n",
      "{'reactants': (15,), 'products': (2, 5), 'rate': __s15*kr_MKK7_upJNK3, 'rule': ('MKK7BindupJNK3',), 'reverse': (True,)}\n",
      "{'reactants': (14,), 'products': (16,), 'rate': __s14*kcat_pMKK7_ArrJNK3, 'rule': ('MKK7catJNK3',), 'reverse': (False,)}\n",
      "{'reactants': (15,), 'products': (24,), 'rate': __s15*kcat_pMKK7_ArrJNK3, 'rule': ('MKK7catJNK3',), 'reverse': (False,)}\n",
      "{'reactants': (16,), 'products': (2, 4), 'rate': __s16*kr_pJNK3_MKK7complex, 'rule': ('pJNK3_MKK7complex_diss',), 'reverse': (False,)}\n",
      "{'reactants': (17,), 'products': (3, 6), 'rate': __s17*kr_MKK4_Arr_bind_uuJNK3, 'rule': ('MKK4_ArrBinduuJNK3',), 'reverse': (True,)}\n",
      "{'reactants': (17,), 'products': (18,), 'rate': __s17*kcat_pMKK4_ArrJNK3, 'rule': ('MKK4catJNK3Arr',), 'reverse': (False,)}\n",
      "{'reactants': (19,), 'products': (25,), 'rate': __s19*kcat_pMKK4_ArrJNK3, 'rule': ('MKK4catJNK3Arr',), 'reverse': (False,)}\n",
      "{'reactants': (18,), 'products': (5, 6), 'rate': __s18*kr_upJNK3_bind_Arr_MKK4, 'rule': ('upJNK3Arr_MKK4_diss',), 'reverse': (False,)}\n",
      "{'reactants': (19,), 'products': (4, 6), 'rate': __s19*kr_puJNK3_bind_Arr_MKK4, 'rule': ('puJNK3Arr_MKK4_diss',), 'reverse': (False,)}\n",
      "{'reactants': (20,), 'products': (3, 7), 'rate': __s20*kr_MKK7_Arr_bind_uuJNK3, 'rule': ('MKK7_ArrBindUUJNK3',), 'reverse': (True,)}\n",
      "{'reactants': (20,), 'products': (21,), 'rate': __s20*kcat_pMKK7_ArrJNK3, 'rule': ('MKK7catJNK3Arr',), 'reverse': (False,)}\n",
      "{'reactants': (22,), 'products': (26,), 'rate': __s22*kcat_pMKK7_ArrJNK3, 'rule': ('MKK7catJNK3Arr',), 'reverse': (False,)}\n",
      "{'reactants': (21,), 'products': (4, 7), 'rate': __s21*kr_puJNK3_bind_Arr_MKK7, 'rule': ('puJNK3Arr_MKK7_diss',), 'reverse': (False,)}\n",
      "{'reactants': (22,), 'products': (5, 7), 'rate': __s22*kr_upJNK3_bind_Arr_MKK7, 'rule': ('upJNK3Arr_MKK7_diss',), 'reverse': (False,)}\n",
      "{'reactants': (17,), 'products': (1, 8), 'rate': __s17*kr_MKK4BindArr_uuJNK3, 'rule': ('MKK4DissArr_uuJNK3',), 'reverse': (True,)}\n",
      "{'reactants': (19,), 'products': (1, 10), 'rate': __s19*kr_MKK4BindArr_uuJNK3, 'rule': ('MKK4DissArr_uuJNK3',), 'reverse': (True,)}\n",
      "{'reactants': (20,), 'products': (2, 8), 'rate': __s20*kr_MKK7BindArr_JNK3, 'rule': ('MKK7DissArr_JNK3',), 'reverse': (True,)}\n",
      "{'reactants': (22,), 'products': (2, 9), 'rate': __s22*kr_MKK7BindArr_JNK3, 'rule': ('MKK7DissArr_JNK3',), 'reverse': (True,)}\n",
      "{'reactants': (2, 18), 'products': (1, 22), 'rate': __s18*__s2*keq_pMKK4_to_pMKK7, 'rule': ('EqpMKK4And7',), 'reverse': (False,)}\n",
      "{'reactants': (1, 21), 'products': (2, 19), 'rate': __s1*__s21*keq_pMKK7_to_pMKK4, 'rule': ('EqpMKK7And4',), 'reverse': (False,)}\n",
      "{'reactants': (23,), 'products': (1, 27), 'rate': __s23*kr_pJNK3_MKK4complex, 'rule': ('pJNK3_MKK4complex_diss',), 'reverse': (False,)}\n",
      "{'reactants': (24,), 'products': (2, 27), 'rate': __s24*kr_pJNK3_MKK7complex, 'rule': ('pJNK3_MKK7complex_diss',), 'reverse': (False,)}\n",
      "{'reactants': (25,), 'products': (6, 27), 'rate': __s25*kr_ppJNK3_Arr, 'rule': ('ppJNK3Arr_MKK4_diss',), 'reverse': (False,)}\n",
      "{'reactants': (6, 27), 'products': (25,), 'rate': __s27*__s6*kf_ppJNK3_Arr, 'rule': ('ppJNK3Arr_MKK4_diss',), 'reverse': (True,)}\n",
      "{'reactants': (26,), 'products': (7, 27), 'rate': __s26*kr_ppJNK3_Arr, 'rule': ('ppJNK3Arr_MKK7_diss',), 'reverse': (False,)}\n",
      "{'reactants': (7, 27), 'products': (26,), 'rate': __s27*__s7*kf_ppJNK3_Arr, 'rule': ('ppJNK3Arr_MKK7_diss',), 'reverse': (True,)}\n",
      "{'reactants': (1, 27), 'products': (23,), 'rate': __s1*__s27*kf_pJNK3_MKK4complex, 'rule': ('pJNK3_MKK4complex_diss',), 'reverse': (True,)}\n",
      "{'reactants': (2, 27), 'products': (24,), 'rate': __s2*__s27*kf_pJNK3_MKK7complex, 'rule': ('pJNK3_MKK7complex_diss',), 'reverse': (True,)}\n"
     ]
    }
   ],
   "source": [
    "# Model reations\n",
    "for i in model.reactions: print (i)"
   ]
  },
  {
   "cell_type": "code",
   "execution_count": 7,
   "metadata": {},
   "outputs": [
    {
     "name": "stdout",
     "output_type": "stream",
     "text": [
      "Arrestin(b1=None, b2=None, b3=None)\n",
      "MKK4(b=None, state='P')\n",
      "MKK7(b=None, state='P')\n",
      "JNK3(b=None, threo='U', tyro='U')\n",
      "JNK3(b=None, threo='P', tyro='U')\n",
      "JNK3(b=None, threo='U', tyro='P')\n",
      "Arrestin(b1=None, b2=1, b3=None) % MKK4(b=1, state='P')\n",
      "Arrestin(b1=None, b2=1, b3=None) % MKK7(b=1, state='P')\n",
      "Arrestin(b1=None, b2=None, b3=1) % JNK3(b=1, threo='U', tyro='U')\n",
      "Arrestin(b1=None, b2=None, b3=1) % JNK3(b=1, threo='U', tyro='P')\n",
      "Arrestin(b1=None, b2=None, b3=1) % JNK3(b=1, threo='P', tyro='U')\n",
      "JNK3(b=1, threo='U', tyro='U') % MKK4(b=1, state='P')\n",
      "JNK3(b=1, threo='P', tyro='U') % MKK4(b=1, state='P')\n",
      "JNK3(b=1, threo='U', tyro='P') % MKK4(b=1, state='P')\n",
      "JNK3(b=1, threo='U', tyro='U') % MKK7(b=1, state='P')\n",
      "JNK3(b=1, threo='U', tyro='P') % MKK7(b=1, state='P')\n",
      "JNK3(b=1, threo='P', tyro='U') % MKK7(b=1, state='P')\n",
      "Arrestin(b1=None, b2=1, b3=2) % JNK3(b=2, threo='U', tyro='U') % MKK4(b=1, state='P')\n",
      "Arrestin(b1=None, b2=1, b3=2) % JNK3(b=2, threo='U', tyro='P') % MKK4(b=1, state='P')\n",
      "Arrestin(b1=None, b2=1, b3=2) % JNK3(b=2, threo='P', tyro='U') % MKK4(b=1, state='P')\n",
      "Arrestin(b1=None, b2=1, b3=2) % JNK3(b=2, threo='U', tyro='U') % MKK7(b=1, state='P')\n",
      "Arrestin(b1=None, b2=1, b3=2) % JNK3(b=2, threo='P', tyro='U') % MKK7(b=1, state='P')\n",
      "Arrestin(b1=None, b2=1, b3=2) % JNK3(b=2, threo='U', tyro='P') % MKK7(b=1, state='P')\n",
      "JNK3(b=1, threo='P', tyro='P') % MKK4(b=1, state='P')\n",
      "JNK3(b=1, threo='P', tyro='P') % MKK7(b=1, state='P')\n",
      "Arrestin(b1=None, b2=1, b3=2) % JNK3(b=2, threo='P', tyro='P') % MKK4(b=1, state='P')\n",
      "Arrestin(b1=None, b2=1, b3=2) % JNK3(b=2, threo='P', tyro='P') % MKK7(b=1, state='P')\n",
      "JNK3(b=None, threo='P', tyro='P')\n"
     ]
    }
   ],
   "source": [
    "# Model species\n",
    "for i in model.species: print (i)"
   ]
  },
  {
   "cell_type": "code",
   "execution_count": 8,
   "metadata": {},
   "outputs": [
    {
     "name": "stdout",
     "output_type": "stream",
     "text": [
      "__s10*kr_puJNK3BindArr + __s6*kr_pMKK4_Arr + __s7*kr_pMKK7_Arr + __s8*kr_uuJNK3_Arr + __s9*kr_upJNK3BindArr + (__s0*__s1*kf_pMKK4_Arr)*(-1) + (__s0*__s2*kf_pMKK7_Arr)*(-1) + (__s0*__s3*kf_uuJNK3_Arr)*(-1) + (__s0*__s4*kf_puJNK3BindArr)*(-1) + (__s0*__s5*kf_upJNK3BindArr)*(-1)\n",
      "__s11*kr_MKK4_uuJNK3 + __s12*kr_MKK4_puJNK3 + __s13*kr_pJNK3_MKK4complex + __s17*kr_MKK4BindArr_uuJNK3 + __s18*__s2*keq_pMKK4_to_pMKK7 + __s19*kr_MKK4BindArr_uuJNK3 + __s23*kr_pJNK3_MKK4complex + __s6*kr_pMKK4_Arr + (__s0*__s1*kf_pMKK4_Arr)*(-1) + (__s1*__s10*kf_MKK4BindArr_uuJNK3)*(-1) + (__s1*__s21*keq_pMKK7_to_pMKK4)*(-1) + (__s1*__s27*kf_pJNK3_MKK4complex)*(-1) + (__s1*__s3*kf_MKK4_uuJNK3)*(-1) + (__s1*__s4*kf_MKK4_puJNK3)*(-1) + (__s1*__s5*kf_pJNK3_MKK4complex)*(-1) + (__s1*__s8*kf_MKK4BindArr_uuJNK3)*(-1)\n",
      "__s1*__s21*keq_pMKK7_to_pMKK4 + __s14*kr_MKK7_uuJNK3 + __s15*kr_MKK7_upJNK3 + __s16*kr_pJNK3_MKK7complex + __s20*kr_MKK7BindArr_JNK3 + __s22*kr_MKK7BindArr_JNK3 + __s24*kr_pJNK3_MKK7complex + __s7*kr_pMKK7_Arr + (__s0*__s2*kf_pMKK7_Arr)*(-1) + (__s18*__s2*keq_pMKK4_to_pMKK7)*(-1) + (__s2*__s27*kf_pJNK3_MKK7complex)*(-1) + (__s2*__s3*kf_MKK7_uuJNK3)*(-1) + (__s2*__s4*kf_pJNK3_MKK7complex)*(-1) + (__s2*__s5*kf_MKK7_upJNK3)*(-1) + (__s2*__s8*kf_MKK7BindArr_JNK3)*(-1) + (__s2*__s9*kf_MKK7BindArr_JNK3)*(-1)\n",
      "__s11*kr_MKK4_uuJNK3 + __s14*kr_MKK7_uuJNK3 + __s17*kr_MKK4_Arr_bind_uuJNK3 + __s20*kr_MKK7_Arr_bind_uuJNK3 + __s8*kr_uuJNK3_Arr + (__s0*__s3*kf_uuJNK3_Arr)*(-1) + (__s1*__s3*kf_MKK4_uuJNK3)*(-1) + (__s2*__s3*kf_MKK7_uuJNK3)*(-1) + (__s3*__s6*kf_MKK4_Arr_bind_uuJNK3)*(-1) + (__s3*__s7*kf_MKK7_Arr_bind_uuJNK3)*(-1)\n",
      "__s10*kr_puJNK3BindArr + __s12*kr_MKK4_puJNK3 + __s16*kr_pJNK3_MKK7complex + __s19*kr_puJNK3_bind_Arr_MKK4 + __s21*kr_puJNK3_bind_Arr_MKK7 + (__s0*__s4*kf_puJNK3BindArr)*(-1) + (__s1*__s4*kf_MKK4_puJNK3)*(-1) + (__s2*__s4*kf_pJNK3_MKK7complex)*(-1) + (__s4*__s6*kf_puJNK3_bind_Arr_MKK4)*(-1) + (__s4*__s7*kf_puJNK3_bind_Arr_MKK7)*(-1)\n",
      "__s13*kr_pJNK3_MKK4complex + __s15*kr_MKK7_upJNK3 + __s18*kr_upJNK3_bind_Arr_MKK4 + __s22*kr_upJNK3_bind_Arr_MKK7 + __s9*kr_upJNK3BindArr + (__s0*__s5*kf_upJNK3BindArr)*(-1) + (__s1*__s5*kf_pJNK3_MKK4complex)*(-1) + (__s2*__s5*kf_MKK7_upJNK3)*(-1) + (__s5*__s6*kf_upJNK3_bind_Arr_MKK4)*(-1) + (__s5*__s7*kf_upJNK3_bind_Arr_MKK7)*(-1)\n",
      "__s0*__s1*kf_pMKK4_Arr + __s17*kr_MKK4_Arr_bind_uuJNK3 + __s18*kr_upJNK3_bind_Arr_MKK4 + __s19*kr_puJNK3_bind_Arr_MKK4 + __s25*kr_ppJNK3_Arr + (__s6*kr_pMKK4_Arr)*(-1) + (__s27*__s6*kf_ppJNK3_Arr)*(-1) + (__s3*__s6*kf_MKK4_Arr_bind_uuJNK3)*(-1) + (__s4*__s6*kf_puJNK3_bind_Arr_MKK4)*(-1) + (__s5*__s6*kf_upJNK3_bind_Arr_MKK4)*(-1)\n",
      "__s0*__s2*kf_pMKK7_Arr + __s20*kr_MKK7_Arr_bind_uuJNK3 + __s21*kr_puJNK3_bind_Arr_MKK7 + __s22*kr_upJNK3_bind_Arr_MKK7 + __s26*kr_ppJNK3_Arr + (__s7*kr_pMKK7_Arr)*(-1) + (__s27*__s7*kf_ppJNK3_Arr)*(-1) + (__s3*__s7*kf_MKK7_Arr_bind_uuJNK3)*(-1) + (__s4*__s7*kf_puJNK3_bind_Arr_MKK7)*(-1) + (__s5*__s7*kf_upJNK3_bind_Arr_MKK7)*(-1)\n",
      "__s0*__s3*kf_uuJNK3_Arr + __s17*kr_MKK4BindArr_uuJNK3 + __s20*kr_MKK7BindArr_JNK3 + (__s8*kr_uuJNK3_Arr)*(-1) + (__s1*__s8*kf_MKK4BindArr_uuJNK3)*(-1) + (__s2*__s8*kf_MKK7BindArr_JNK3)*(-1)\n",
      "__s0*__s5*kf_upJNK3BindArr + __s22*kr_MKK7BindArr_JNK3 + (__s9*kr_upJNK3BindArr)*(-1) + (__s2*__s9*kf_MKK7BindArr_JNK3)*(-1)\n",
      "__s0*__s4*kf_puJNK3BindArr + __s19*kr_MKK4BindArr_uuJNK3 + (__s10*kr_puJNK3BindArr)*(-1) + (__s1*__s10*kf_MKK4BindArr_uuJNK3)*(-1)\n",
      "__s1*__s3*kf_MKK4_uuJNK3 + (__s11*kcat_pMKK4_ArrJNK3)*(-1) + (__s11*kr_MKK4_uuJNK3)*(-1)\n",
      "__s1*__s4*kf_MKK4_puJNK3 + (__s12*kcat_pMKK4_ArrJNK3)*(-1) + (__s12*kr_MKK4_puJNK3)*(-1)\n",
      "__s1*__s5*kf_pJNK3_MKK4complex + __s11*kcat_pMKK4_ArrJNK3 + (__s13*kr_pJNK3_MKK4complex)*(-1)\n",
      "__s2*__s3*kf_MKK7_uuJNK3 + (__s14*kcat_pMKK7_ArrJNK3)*(-1) + (__s14*kr_MKK7_uuJNK3)*(-1)\n",
      "__s2*__s5*kf_MKK7_upJNK3 + (__s15*kcat_pMKK7_ArrJNK3)*(-1) + (__s15*kr_MKK7_upJNK3)*(-1)\n",
      "__s14*kcat_pMKK7_ArrJNK3 + __s2*__s4*kf_pJNK3_MKK7complex + (__s16*kr_pJNK3_MKK7complex)*(-1)\n",
      "__s1*__s8*kf_MKK4BindArr_uuJNK3 + __s3*__s6*kf_MKK4_Arr_bind_uuJNK3 + (__s17*kcat_pMKK4_ArrJNK3)*(-1) + (__s17*kr_MKK4BindArr_uuJNK3)*(-1) + (__s17*kr_MKK4_Arr_bind_uuJNK3)*(-1)\n",
      "__s17*kcat_pMKK4_ArrJNK3 + __s5*__s6*kf_upJNK3_bind_Arr_MKK4 + (__s18*kr_upJNK3_bind_Arr_MKK4)*(-1) + (__s18*__s2*keq_pMKK4_to_pMKK7)*(-1)\n",
      "__s1*__s10*kf_MKK4BindArr_uuJNK3 + __s1*__s21*keq_pMKK7_to_pMKK4 + __s4*__s6*kf_puJNK3_bind_Arr_MKK4 + (__s19*kcat_pMKK4_ArrJNK3)*(-1) + (__s19*kr_MKK4BindArr_uuJNK3)*(-1) + (__s19*kr_puJNK3_bind_Arr_MKK4)*(-1)\n",
      "__s2*__s8*kf_MKK7BindArr_JNK3 + __s3*__s7*kf_MKK7_Arr_bind_uuJNK3 + (__s20*kcat_pMKK7_ArrJNK3)*(-1) + (__s20*kr_MKK7BindArr_JNK3)*(-1) + (__s20*kr_MKK7_Arr_bind_uuJNK3)*(-1)\n",
      "__s20*kcat_pMKK7_ArrJNK3 + __s4*__s7*kf_puJNK3_bind_Arr_MKK7 + (__s21*kr_puJNK3_bind_Arr_MKK7)*(-1) + (__s1*__s21*keq_pMKK7_to_pMKK4)*(-1)\n",
      "__s18*__s2*keq_pMKK4_to_pMKK7 + __s2*__s9*kf_MKK7BindArr_JNK3 + __s5*__s7*kf_upJNK3_bind_Arr_MKK7 + (__s22*kcat_pMKK7_ArrJNK3)*(-1) + (__s22*kr_MKK7BindArr_JNK3)*(-1) + (__s22*kr_upJNK3_bind_Arr_MKK7)*(-1)\n",
      "__s1*__s27*kf_pJNK3_MKK4complex + __s12*kcat_pMKK4_ArrJNK3 + (__s23*kr_pJNK3_MKK4complex)*(-1)\n",
      "__s15*kcat_pMKK7_ArrJNK3 + __s2*__s27*kf_pJNK3_MKK7complex + (__s24*kr_pJNK3_MKK7complex)*(-1)\n",
      "__s19*kcat_pMKK4_ArrJNK3 + __s27*__s6*kf_ppJNK3_Arr + (__s25*kr_ppJNK3_Arr)*(-1)\n",
      "__s22*kcat_pMKK7_ArrJNK3 + __s27*__s7*kf_ppJNK3_Arr + (__s26*kr_ppJNK3_Arr)*(-1)\n",
      "__s23*kr_pJNK3_MKK4complex + __s24*kr_pJNK3_MKK7complex + __s25*kr_ppJNK3_Arr + __s26*kr_ppJNK3_Arr + (__s1*__s27*kf_pJNK3_MKK4complex)*(-1) + (__s2*__s27*kf_pJNK3_MKK7complex)*(-1) + (__s27*__s6*kf_ppJNK3_Arr)*(-1) + (__s27*__s7*kf_ppJNK3_Arr)*(-1)\n"
     ]
    }
   ],
   "source": [
    "# Model ordinary differential equations\n",
    "for i in model.odes: print (i)"
   ]
  }
 ],
 "metadata": {
  "kernelspec": {
   "display_name": "Python 3",
   "language": "python",
   "name": "python3"
  },
  "language_info": {
   "codemirror_mode": {
    "name": "ipython",
    "version": 3
   },
   "file_extension": ".py",
   "mimetype": "text/x-python",
   "name": "python",
   "nbconvert_exporter": "python",
   "pygments_lexer": "ipython3",
   "version": "3.7.1"
  }
 },
 "nbformat": 4,
 "nbformat_minor": 2
}
