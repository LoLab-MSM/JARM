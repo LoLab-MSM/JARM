{
 "cells": [
  {
   "cell_type": "code",
   "execution_count": null,
   "metadata": {},
   "outputs": [],
   "source": [
    "# Importing model\n",
    "import sys\n",
    "sys.path.append(\"..\")\n",
    "from model_analysis.jnk3_no_ask1 import model\n",
    "from simplepso.pso import PSO\n",
    "from pysb.simulator import ScipyOdeSimulator\n",
    "import numpy as np\n",
    "import matplotlib.pyplot as plt\n",
    "import pandas as pd\n",
    "from model_analysis.equilibration_function import pre_equilibration"
   ]
  },
  {
   "cell_type": "code",
   "execution_count": null,
   "metadata": {},
   "outputs": [],
   "source": [
    "# Loading data\n",
    "exp_data = pd.read_csv('../data/exp_data_3min.csv')"
   ]
  },
  {
   "cell_type": "code",
   "execution_count": null,
   "metadata": {},
   "outputs": [],
   "source": [
    "# Indices of model parameters that are going to be calibrated\n",
    "idx_pars_calibrate = [1, 5, 9, 11, 15, 17, 19, 23, 25, 27, 31, 35, 36, 37, 38, 39, 41, 43]\n",
    "rates_of_interest_mask = [i in idx_pars_calibrate for i, par in enumerate(model.parameters)]"
   ]
  },
  {
   "cell_type": "code",
   "execution_count": null,
   "metadata": {},
   "outputs": [],
   "source": [
    "# Index of Initial conditions of Arrestin\n",
    "arrestin_idx = [44]\n",
    "jnk3_initial_value = 0.6  # total jnk3\n",
    "jnk3_initial_idxs = [47, 48, 49]\n",
    "kcat_idx = [36, 37]\n",
    "\n",
    "param_values = np.array([p.value for p in model.parameters])\n",
    "nominal_values = np.array([p.value for p in model.parameters])\n",
    "xnominal = np.log10(nominal_values[rates_of_interest_mask])\n",
    "lower = xnominal - 2\n",
    "upper = xnominal + 2"
   ]
  },
  {
   "cell_type": "code",
   "execution_count": null,
   "metadata": {},
   "outputs": [],
   "source": [
    "# Setting the solver\n",
    "tspan = np.linspace(0, exp_data['Time (secs)'].values[-1], 181)\n",
    "t_exp_mask = [idx in exp_data['Time (secs)'].values[:] for idx in tspan]\n",
    "solver = ScipyOdeSimulator(model, tspan=tspan)"
   ]
  },
  {
   "cell_type": "code",
   "execution_count": null,
   "metadata": {},
   "outputs": [],
   "source": [
    "# Display function to compare between the experimental data and \n",
    "# the simulated trajectories\n",
    "\n",
    "def display(position):\n",
    "    Y = np.copy(position)\n",
    "    param_values[rates_of_interest_mask] = 10 ** Y\n",
    "\n",
    "    pars1 = np.copy(param_values)\n",
    "    pars2 = np.copy(param_values)\n",
    "\n",
    "    # Pre-equilibration\n",
    "    time_eq = np.linspace(0, 30, 30)\n",
    "    pars_eq1 = np.copy(param_values)\n",
    "    pars_eq2 = np.copy(param_values)\n",
    "\n",
    "    pars_eq2[arrestin_idx] = 0\n",
    "    pars_eq2[jnk3_initial_idxs] = [0.5958, 0, 0.0042]\n",
    "\n",
    "    all_pars = np.stack((pars_eq1, pars_eq2))\n",
    "    all_pars[:, kcat_idx] = 0  # Setting catalytic reactions to zero for pre-equilibration\n",
    "    eq_conc = pre_equilibration(model, time_eq, all_pars)[1]\n",
    "\n",
    "    # Simulating models with initials from pre-equilibration and parameters for condition with/without arrestin\n",
    "    pars2[arrestin_idx] = 0\n",
    "    pars2[jnk3_initial_idxs] = [0.5958, 0, 0.0042]\n",
    "    sim = solver.run(param_values=[pars1, pars2], initials=eq_conc).all\n",
    "\n",
    "    plt.plot(tspan, sim[0]['pTyr_jnk3'] / jnk3_initial_value, color='red', label='p(Tyr)JNK3 sim')\n",
    "    plt.errorbar(exp_data['Time (secs)'].values, exp_data['pTyr_arrestin_avg'].values,\n",
    "                 exp_data['pTyr_arrestin_std'].values,\n",
    "                 linestyle='None', marker='o', capsize=5, color='red', label='p(Tyr)JNK3 exp')\n",
    "\n",
    "    plt.plot(tspan, sim[0]['pThr_jnk3'] / jnk3_initial_value, color='blue', label='p(Thr)JNK3 sim')\n",
    "    plt.errorbar(exp_data['Time (secs)'].values, exp_data['pThr_arrestin_avg'].values,\n",
    "                 exp_data['pThr_arrestin_std'].values,\n",
    "                 linestyle='None', marker='o', capsize=5, color='blue', label='p(Thr)JNK3 exp')\n",
    "\n",
    "    plt.plot(tspan, sim[0]['all_jnk3'] / jnk3_initial_value, color='cyan', label='ppJNK3 sim')\n",
    "    plt.errorbar(exp_data['Time (secs)'].values, exp_data['ppjnk3_arrestin_avg'].values,\n",
    "                 exp_data['ppjnk3_arrestin_std'].values,\n",
    "                 linestyle='None', marker='o', capsize=5, color='cyan', label='ppJNK3 exp')\n",
    "\n",
    "    plt.plot(tspan, sim[1]['pTyr_jnk3'] / jnk3_initial_value, color='black', label='p(Tyr)JNK3 -Arr sim')\n",
    "    plt.errorbar(exp_data['Time (secs)'].values, exp_data['pTyr_noarrestin_avg'].values,\n",
    "                 exp_data['pTyr_noarrestin_std'].values,\n",
    "                 linestyle='None', marker='o', capsize=5, color='black', label='p(Tyr)JNK3 -Arr exp')\n",
    "\n",
    "    plt.plot(tspan, sim[1]['pThr_jnk3'] / jnk3_initial_value, color='green', label='p(Thr)JNK3 -Arr sim')\n",
    "    plt.errorbar(exp_data['Time (secs)'].values, exp_data['pThr_noarrestin_avg'].values,\n",
    "                 exp_data['pThr_noarrestin_std'].values,\n",
    "                 linestyle='None', marker='o', capsize=5, color='green', label='p(Thr)JNK3 -Arr exp')\n",
    "\n",
    "    plt.plot(tspan, sim[1]['all_jnk3'] / jnk3_initial_value, color='purple', label='ppJNK3 -Arr sim')\n",
    "    plt.errorbar(exp_data['Time (secs)'].values, exp_data['ppjnk3_noarrestin_avg'].values,\n",
    "                 exp_data['ppjnk3_noarrestin_std'].values,\n",
    "                 linestyle='None', marker='o', capsize=5, color='purple', label='ppJNK3 -Arr exp')\n",
    "\n",
    "    plt.xlabel('Arrestin (microM)')\n",
    "    plt.ylabel('pJNK3 (microM)')\n",
    "    # plt.legend()\n",
    "    plt.savefig('jnk3_noASK1_trained_pso_1h.png')\n",
    "    plt.show()"
   ]
  },
  {
   "cell_type": "code",
   "execution_count": null,
   "metadata": {},
   "outputs": [],
   "source": [
    "# Sum of squared errors function to measure the difference between\n",
    "# the experimental data and the simulated trajectories\n",
    "def likelihood(position):\n",
    "    Y = np.copy(position)\n",
    "    param_values[rates_of_interest_mask] = 10 ** Y\n",
    "\n",
    "    pars1 = np.copy(param_values)\n",
    "    pars2 = np.copy(param_values)\n",
    "\n",
    "    # Pre-equilibration\n",
    "    time_eq = np.linspace(0, 30, 60)\n",
    "    pars_eq1 = np.copy(param_values)\n",
    "    pars_eq2 = np.copy(param_values)\n",
    "\n",
    "    pars_eq2[arrestin_idx] = 0\n",
    "    pars_eq2[jnk3_initial_idxs] = [0.5958, 0, 0.0042]\n",
    "\n",
    "    all_pars = np.stack((pars_eq1, pars_eq2))\n",
    "    all_pars[:, kcat_idx] = 0  # Setting catalytic reactions to zero for pre-equilibration\n",
    "    eq_conc = pre_equilibration(model, time_eq, all_pars)[1]\n",
    "\n",
    "    # Simulating models with initials from pre-equilibration and parameters for condition with/without arrestin\n",
    "    pars2[arrestin_idx] = 0\n",
    "    pars2[jnk3_initial_idxs] = [0.5958, 0, 0.0042]\n",
    "    sim = solver.run(param_values=[pars1, pars2], initials=eq_conc).all\n",
    "\n",
    "    e_mkk4 = np.sum((exp_data['pTyr_arrestin_avg'].values - sim[0]['pTyr_jnk3'][t_exp_mask] / jnk3_initial_value) ** 2 /\n",
    "                    (2 * exp_data['pTyr_arrestin_std'].values)) / len(exp_data['pTyr_arrestin_std'].values)\n",
    "    e_mkk7 = np.sum((exp_data['pThr_arrestin_avg'].values - sim[0]['pThr_jnk3'][t_exp_mask] / jnk3_initial_value) ** 2 /\n",
    "                    (2 * exp_data['pThr_arrestin_std'].values)) / len(exp_data['pThr_arrestin_std'].values)\n",
    "    # e_ppjnk3 = np.sum((exp_data['ppjnk3_arrestin_avg'].values - sim[0]['all_jnk3'][t_exp_mask] / jnk3_initial_value) **2 /\n",
    "    #                   (2 * exp_data['ppjnk3_arrestin_std'].values)) / len(exp_data['ppjnk3_arrestin_std'].values)\n",
    "    error1 = e_mkk4 + e_mkk7\n",
    "\n",
    "    e2_mkk4 = np.sum((exp_data['pTyr_noarrestin_avg'].values - sim[1]['pTyr_jnk3'][t_exp_mask] / jnk3_initial_value) ** 2 /\n",
    "                    (2 * exp_data['pTyr_noarrestin_std'].values)) / len(exp_data['pTyr_noarrestin_std'].values)\n",
    "    e2_mkk7 = np.sum((exp_data['pThr_noarrestin_avg'].values - sim[1]['pThr_jnk3'][t_exp_mask] / jnk3_initial_value) ** 2 /\n",
    "                    (2 * exp_data['pThr_noarrestin_std'].values)) / len(exp_data['pThr_noarrestin_std'].values)\n",
    "    # e2_ppjnk3 = np.sum((exp_data['ppjnk3_noarrestin_avg'].values - sim[1]['all_jnk3'][t_exp_mask] / jnk3_initial_value) **2 /\n",
    "    #                   (2 * exp_data['ppjnk3_noarrestin_std'].values)) / len(exp_data['ppjnk3_noarrestin_std'].values)\n",
    "    error2 = e2_mkk4 + e2_mkk7\n",
    "    error = error1 + error2\n",
    "    return error,"
   ]
  },
  {
   "cell_type": "code",
   "execution_count": null,
   "metadata": {},
   "outputs": [],
   "source": [
    "# Running the Particle Swarm Optimization algorithm\n",
    "pso = PSO(save_sampled=False, verbose=True, num_proc=4)\n",
    "pso.set_cost_function(likelihood)\n",
    "pso.set_start_position(xnominal)\n",
    "pso.set_bounds(lower=lower, upper=upper)\n",
    "pso.set_speed(-.25, .25)\n",
    "pso.run(25, 100)\n",
    "display(pso.best)\n"
   ]
  },
  {
   "cell_type": "code",
   "execution_count": null,
   "metadata": {},
   "outputs": [],
   "source": []
  }
 ],
 "metadata": {
  "kernelspec": {
   "display_name": "Python 2",
   "language": "python",
   "name": "python2"
  },
  "language_info": {
   "codemirror_mode": {
    "name": "ipython",
    "version": 2
   },
   "file_extension": ".py",
   "mimetype": "text/x-python",
   "name": "python",
   "nbconvert_exporter": "python",
   "pygments_lexer": "ipython2",
   "version": "2.7.13"
  }
 },
 "nbformat": 4,
 "nbformat_minor": 2
}
