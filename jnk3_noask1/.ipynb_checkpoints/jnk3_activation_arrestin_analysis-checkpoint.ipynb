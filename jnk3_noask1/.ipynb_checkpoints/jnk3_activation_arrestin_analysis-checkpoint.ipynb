{
 "cells": [
  {
   "cell_type": "markdown",
   "metadata": {},
   "source": [
    "# Importing python libraries and the PySB model."
   ]
  },
  {
   "cell_type": "code",
   "execution_count": null,
   "metadata": {},
   "outputs": [],
   "source": [
    "# Importing libraries\n",
    "from jnk3_no_ask1 import model\n",
    "import numpy as np\n",
    "import matplotlib.pyplot as plt\n",
    "from pysb.simulator import ScipyOdeSimulator\n",
    "import pandas as pd\n",
    "from equilibration_function import pre_equilibration\n"
   ]
  },
  {
   "cell_type": "code",
   "execution_count": null,
   "metadata": {},
   "outputs": [],
   "source": [
    "# Loading fitted parameters\n",
    "param_values = np.array([p.value for p in model.parameters])\n",
    "# idx_pars_calibrate = [3, 21, 23, 25, 27, 29, 32, 33, 34, 35, 36, 37,  39, 41]\n",
    "# idx_pars_calibrate = [21, 23, 25, 27, 29, 32, 33, 36, 37,  39, 41] # Kcat is same for phosphorylation with and without arrestin\n",
    "#New kds in jnk3 mkk4/7\n",
    "idx_pars_calibrate = [3, 21, 23, 25, 32, 33, 36, 37]\n",
    "# Including all k forwards\n",
    "# idx_pars_calibrate = [idx for idx, par in enumerate(model.parameters)\n",
    "#                       if par not in list(model.parameters_unused()) + list(model.parameters_initial_conditions())]\n",
    "\n",
    "rates_of_interest_mask = [i in idx_pars_calibrate for i, par in enumerate(model.parameters)]\n",
    "\n",
    "# fitted_pars = np.load('jnk3_noASK1_calibrated_pars_pso27_1h.npy')\n",
    "# param_values[rates_of_interest_mask] = 10 ** fitted_pars\n",
    "# parameters = np.load('jnk3_noASK1_ncalibrated_pars.npy')\n",
    "# parameters = np.unique(parameters, axis=0)\n",
    "# pydream_pars = np.load('pydream_results/jnk3_dreamzs_5chain_sampled_params_chain_4_50000.npy')\n",
    "# unique_pydream_pars = np.unique(pydream_pars, return_counts=True, axis=0)\n",
    "# max_idx = unique_pydream_pars[1].argmax()\n",
    "# param_values[rates_of_interest_mask] = 10 ** unique_pydream_pars[0][max_idx]\n"
   ]
  },
  {
   "cell_type": "code",
   "execution_count": null,
   "metadata": {
    "scrolled": true
   },
   "outputs": [],
   "source": [
    "chain0 = np.load('pydream_results/normalization_preequilibration1/jnk3_dreamzs_5chain_sampled_params_chain_0_50000.npy')\n",
    "chain1 = np.load('pydream_results/normalization_preequilibration1/jnk3_dreamzs_5chain_sampled_params_chain_1_50000.npy')\n",
    "chain2 = np.load('pydream_results/normalization_preequilibration1/jnk3_dreamzs_5chain_sampled_params_chain_2_50000.npy')\n",
    "chain3 = np.load('pydream_results/normalization_preequilibration1/jnk3_dreamzs_5chain_sampled_params_chain_3_50000.npy')\n",
    "chain4 = np.load('pydream_results/normalization_preequilibration1/jnk3_dreamzs_5chain_sampled_params_chain_4_50000.npy')\n",
    "\n",
    "burnin = 25000\n",
    "all_chains = np.concatenate((chain0[burnin:, :], chain1[burnin:, :], chain2[burnin:, :],\n",
    "                           chain3[burnin:, :], chain4[burnin:, :]))\n",
    "\n",
    "unique_pydream_pars = np.unique(all_chains, return_counts=True, axis=0)\n",
    "# np.save('pydream_most_likely_par',unique_pydream_pars[0][max_idx])\n",
    "max_idx = unique_pydream_pars[1].argmax()\n",
    "param_values[rates_of_interest_mask] = 10 ** unique_pydream_pars[0][max_idx]\n",
    "    "
   ]
  },
  {
   "cell_type": "code",
   "execution_count": null,
   "metadata": {},
   "outputs": [],
   "source": [
    "for i,j in enumerate(model.parameters): print i, j.name, param_values[i]"
   ]
  },
  {
   "cell_type": "code",
   "execution_count": null,
   "metadata": {},
   "outputs": [],
   "source": [
    "all_param_values = [0]*len(all_chains)\n",
    "for idx, par in enumerate(all_chains):\n",
    "    param_values[rates_of_interest_mask] = 10 ** par\n",
    "    all_param_values[idx] = param_values"
   ]
  },
  {
   "cell_type": "code",
   "execution_count": null,
   "metadata": {},
   "outputs": [],
   "source": [
    "all_pre_equilibration = [0]*len(all_param_values)\n",
    "time_eq = np.linspace(0, 30, 30)\n",
    "for idx, par in enumerate(all_param_values):\n",
    "    pars_eq1 = np.copy(par)\n",
    "    eq_conc1 = pre_equilibration(model, time_eq, pars_eq1)[1]\n",
    "    all_pre_equilibration[idx] = eq_conc1"
   ]
  },
  {
   "cell_type": "code",
   "execution_count": null,
   "metadata": {},
   "outputs": [],
   "source": [
    "tspan0 = np.linspace(0, 60, 100)\n",
    "solver0 = ScipyOdeSimulator(model, tspan=tspan0)\n",
    "sim = solver0.run(param_values=param_values,\n",
    "                  initials=all_pre_equilibration).all"
   ]
  },
  {
   "cell_type": "markdown",
   "metadata": {},
   "source": [
    "# Next, we present a plot of the results of the model calibration. The continuous lines represent the model simulations and the dots represent the experimental data."
   ]
  },
  {
   "cell_type": "code",
   "execution_count": null,
   "metadata": {
    "scrolled": true
   },
   "outputs": [],
   "source": [
    "%matplotlib inline\n",
    "exp_data = pd.read_csv('../data/exp_data_arrestin_normalization_1h_138max.csv')\n",
    "\n",
    "tspan0 = exp_data['Time (secs)'].values[:-1]\n",
    "tspan0 = np.linspace(0, 60, 100)\n",
    "solver0 = ScipyOdeSimulator(model, tspan=tspan0)\n",
    "\n",
    "jnk3_initial_value = 0.6\n",
    "arrestin_idx = [42]\n",
    "jnk3_initial_idxs = [45, 46, 47]\n",
    "\n",
    "# Pre-equilibration\n",
    "time_eq = np.linspace(0, 30, 30)\n",
    "pars_eq1 = np.copy(param_values)\n",
    "pars_eq2 = np.copy(param_values)\n",
    "\n",
    "pars_eq2[arrestin_idx] = 0\n",
    "pars_eq2[jnk3_initial_idxs] = [0.492, 0.108, 0]\n",
    "\n",
    "all_pars = np.stack((pars_eq1, pars_eq2))\n",
    "all_pars[:, [16, 17, 32, 33, 34, 35]] = 0  # Setting catalytic reactions to zero for pre-equilibration\n",
    "eq_conc = pre_equilibration(model, time_eq, all_pars)[1]\n",
    "\n",
    "sim = solver0.run(param_values=param_values, initials=eq_conc[0]).all\n",
    "# sim = solver0.run(param_values=parameters[10]).all\n",
    "\n",
    "plt.plot(tspan0, sim['pTyr_jnk3'] / jnk3_initial_value, color='red')\n",
    "plt.errorbar(exp_data['Time (secs)'].values[:-1], exp_data['pTyr_arrestin_avg'].values[:-1],\n",
    "             exp_data['pTyr_arrestin_std'].values[:-1],\n",
    "             linestyle='None', marker='o', capsize=5, color='red', label='pJNK3 by MKK4 exp')\n",
    "plt.plot(tspan0, sim['pThr_jnk3'] / jnk3_initial_value, color='blue')\n",
    "plt.errorbar(exp_data['Time (secs)'].values[:-1], exp_data['pThr_arrestin_avg'].values[:-1],\n",
    "             exp_data['pThr_arrestin_std'].values[:-1],\n",
    "             linestyle='None', marker='o', capsize=5, color='blue', label='pJNK3 by MKK7 exp')\n",
    "\n",
    "param_values2 = np.copy(param_values)\n",
    "# param_values2= np.copy(parameters[10])\n",
    "param_values2[arrestin_idx] = 0\n",
    "param_values2[jnk3_initial_idxs] = [0.492, 0.108, 0]\n",
    "\n",
    "sim2 = solver0.run(param_values=param_values2, initials=eq_conc[1]).all\n",
    "\n",
    "plt.plot(tspan0, sim2['pTyr_jnk3'] / jnk3_initial_value, color='black')\n",
    "plt.errorbar(exp_data['Time (secs)'].values[:-1], exp_data['pTyr_noarrestin_avg'].values[:-1],\n",
    "             exp_data['pTyr_noarrestin_std'].values[:-1],\n",
    "             linestyle='None', marker='o', capsize=5, color='black', label='pJNK3 by MKK4 no Arr exp')\n",
    "plt.plot(tspan0, sim2['pThr_jnk3'] / jnk3_initial_value, color='green')\n",
    "plt.errorbar(exp_data['Time (secs)'].values[:-1], exp_data['pThr_noarrestin_avg'].values[:-1],\n",
    "             exp_data['pThr_noarrestin_std'].values[:-1],\n",
    "             linestyle='None', marker='o', capsize=5, color='green', label='pJNK3 by MKK7 no Arr exp')\n",
    "\n",
    "plt.xlabel('Arrestin (microM)')\n",
    "plt.ylabel('pJNK3 (microM)')\n",
    "plt.legend()\n"
   ]
  },
  {
   "cell_type": "markdown",
   "metadata": {},
   "source": [
    "# From here, we are going to be doing the analysis using the simplest model that consists in having JNK3, MKK4, and MKK7 interacting. This would correspond to the last experimental data set that Nicole sent us. We used this model because it is easier to visualize its network of interactions and it still allows us to study the order of the JNK3 phosphorilation."
   ]
  },
  {
   "cell_type": "code",
   "execution_count": null,
   "metadata": {},
   "outputs": [],
   "source": [
    "from cyjs_viz.model_visualization import ModelVisualization\n",
    "from jnk3_no_ask1 import model\n",
    "import numpy as np\n",
    "from equilibration_function import pre_equilibration\n",
    "\n",
    "tspan_v = np.linspace(0, 100, 100)\n",
    "viz = ModelVisualization(model)\n",
    "param_values[43] = 0.05\n",
    "\n",
    "pars_eq1 = np.copy(param_values)\n",
    "pars_eq1[[16, 17, 32, 33, 34, 35]] = 0\n",
    "time_eq = np.linspace(0, 30, 30)\n",
    "eq_conc1 = pre_equilibration(model, time_eq, pars_eq1)[1]\n",
    "\n",
    "data = viz.dynamic_view(tspan=tspan_v, param_values=param_values, \n",
    "                        initials=eq_conc1, maxplus=True)\n",
    "# data = viz.static_view(get_passengers=False, find_paths=None, cutoff=6)"
   ]
  },
  {
   "cell_type": "code",
   "execution_count": null,
   "metadata": {},
   "outputs": [],
   "source": [
    "from cyjs_viz.cytoscapejs import viewer as cyjs\n",
    "from IPython.display import display\n",
    "q=cyjs.render(data, layout_algorithm='preset')"
   ]
  },
  {
   "cell_type": "code",
   "execution_count": null,
   "metadata": {},
   "outputs": [],
   "source": [
    "# import networkx as nx\n",
    "# from cyjs_viz.util import parse_name\n",
    "# for path in nx.all_simple_paths(viz.sp_graph, 's0', 's25', cutoff=10): \n",
    "#     print ([parse_name(model.species[int(filter(str.isdigit, n))]) for n in path])"
   ]
  },
  {
   "cell_type": "code",
   "execution_count": null,
   "metadata": {},
   "outputs": [],
   "source": [
    "# Solving the PySB model to obtain the trajectories of the molecular species\n",
    "\n",
    "tspan = np.linspace(0, 60, 121)\n",
    "solver = ScipyOdeSimulator(model, tspan=tspan)\n",
    "# param_values[arrestin_idx] = 0\n",
    "sim = solver.run(param_values=param_values).all"
   ]
  },
  {
   "cell_type": "code",
   "execution_count": null,
   "metadata": {},
   "outputs": [],
   "source": [
    "from pysb.bng import generate_equations\n",
    "generate_equations(model)\n",
    "for i,j in enumerate(model.species): print i,j"
   ]
  },
  {
   "cell_type": "code",
   "execution_count": null,
   "metadata": {},
   "outputs": [],
   "source": [
    "from tropical.dynamic_signatures_range import run_tropical\n",
    "from equilibration_function import pre_equilibration\n",
    "tspan = np.linspace(0, 60, 120)\n",
    "solver_t = ScipyOdeSimulator(model, tspan=tspan)\n",
    "\n",
    "time_eq = np.linspace(0, 30, 30)\n",
    "pars_eq1 = np.copy(param_values)\n",
    "pars_eq1[[16, 17, 32, 33, 34, 35]] = 0\n",
    "eq_conc1 = pre_equilibration(model, time_eq, pars_eq1)[1]\n",
    "sim_t = solver_t.run(param_values=param_values, initials=eq_conc1)\n",
    "# sim_t = solver_t.run()"
   ]
  },
  {
   "cell_type": "code",
   "execution_count": null,
   "metadata": {},
   "outputs": [],
   "source": [
    "signatures8 = run_tropical(model, simulations=sim_t, diff_par=1, sp_to_vis=[27], plot_type=0)"
   ]
  },
  {
   "cell_type": "code",
   "execution_count": null,
   "metadata": {},
   "outputs": [],
   "source": [
    "print(signatures8['species_combinations'][27]['products'][3])\n"
   ]
  },
  {
   "cell_type": "code",
   "execution_count": null,
   "metadata": {},
   "outputs": [],
   "source": [
    "print(model.species[24])\n",
    "print(model.species[23])\n",
    "print(model.species[5])"
   ]
  },
  {
   "cell_type": "code",
   "execution_count": null,
   "metadata": {},
   "outputs": [],
   "source": [
    "%matplotlib inline\n",
    "signatures15 = run_tropical(model, simulations=sim_t, diff_par=1, sp_to_vis=[2], plot_type=1)"
   ]
  },
  {
   "cell_type": "code",
   "execution_count": null,
   "metadata": {},
   "outputs": [],
   "source": [
    "print(signatures15['species_combinations'][2]['reactants'])"
   ]
  },
  {
   "cell_type": "code",
   "execution_count": null,
   "metadata": {},
   "outputs": [],
   "source": [
    "%matplotlib inline\n",
    "signatures9 = run_tropical(model, simulations=sim_t, diff_par=1, sp_to_vis=[9], plot_type=0)"
   ]
  },
  {
   "cell_type": "code",
   "execution_count": null,
   "metadata": {},
   "outputs": [],
   "source": [
    "print(signatures9['species_combinations'][9]['products'])"
   ]
  },
  {
   "cell_type": "code",
   "execution_count": null,
   "metadata": {},
   "outputs": [],
   "source": [
    "%matplotlib inline\n",
    "signatures5 = run_tropical(model, simulations=sim_t, diff_par=1, sp_to_vis=[5], plot_type=0)"
   ]
  },
  {
   "cell_type": "code",
   "execution_count": null,
   "metadata": {},
   "outputs": [],
   "source": [
    "print(signatures5['species_combinations'][5]['reactants'][1])"
   ]
  },
  {
   "cell_type": "code",
   "execution_count": null,
   "metadata": {},
   "outputs": [],
   "source": [
    "print(model.species[9])"
   ]
  },
  {
   "cell_type": "code",
   "execution_count": null,
   "metadata": {},
   "outputs": [],
   "source": [
    "signatures20 = run_tropical(model, simulations=sim_t, diff_par=1, sp_to_vis=[20], plot_type=0)"
   ]
  },
  {
   "cell_type": "code",
   "execution_count": null,
   "metadata": {},
   "outputs": [],
   "source": [
    "print(signatures20['species_combinations'][20]['reactants'])"
   ]
  },
  {
   "cell_type": "code",
   "execution_count": null,
   "metadata": {},
   "outputs": [],
   "source": [
    "print(model.species[13])\n",
    "print(model.species[5])"
   ]
  },
  {
   "cell_type": "code",
   "execution_count": null,
   "metadata": {},
   "outputs": [],
   "source": [
    "signatures19 = run_tropical(model, simulations=sim_t, diff_par=1, sp_to_vis=[19], plot_type=1)"
   ]
  },
  {
   "cell_type": "code",
   "execution_count": null,
   "metadata": {},
   "outputs": [],
   "source": [
    "print(signatures19['species_combinations'][19]['reactants'])"
   ]
  },
  {
   "cell_type": "markdown",
   "metadata": {},
   "source": [
    "# Conclusions\n",
    "* From the simulation analysis we can imply the order in JNK3 activation is that MKK7 first phosphorylates JNK3 at Thr and then MKK4 phosphorylates JNK3 at Tyr. Also, there is a small portion of the activated JNK3 where the order is reversed.\n",
    "* Something that it is interesting and that I think would require more analysis or experiments is that when MKK4 binds inactive JNK3 it has a high k_reverse (~3 orders of magnitude difference), but when JNK3 is phosphorylated at one of the sites that k_reverse becomes very small. And, the opposite situation happens to MKK7.\n"
   ]
  }
 ],
 "metadata": {
  "kernelspec": {
   "display_name": "Python 2",
   "language": "python",
   "name": "python2"
  },
  "language_info": {
   "codemirror_mode": {
    "name": "ipython",
    "version": 2
   },
   "file_extension": ".py",
   "mimetype": "text/x-python",
   "name": "python",
   "nbconvert_exporter": "python",
   "pygments_lexer": "ipython2",
   "version": "2.7.13"
  }
 },
 "nbformat": 4,
 "nbformat_minor": 2
}
