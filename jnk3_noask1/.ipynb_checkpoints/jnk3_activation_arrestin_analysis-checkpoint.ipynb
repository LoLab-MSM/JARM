{
 "cells": [
  {
   "cell_type": "markdown",
   "metadata": {},
   "source": [
    "# Importing python libraries and the PySB model."
   ]
  },
  {
   "cell_type": "code",
   "execution_count": null,
   "metadata": {},
   "outputs": [],
   "source": [
    "# Importing libraries\n",
    "from jnk3_no_ask1 import model\n",
    "import numpy as np\n",
    "import matplotlib.pyplot as plt\n",
    "from pysb.simulator import ScipyOdeSimulator\n",
    "import pandas as pd"
   ]
  },
  {
   "cell_type": "markdown",
   "metadata": {},
   "source": [
    "# Here we load the fitted parameters that we obtained using the Particle Swarm Optimization (PSO). To obtain this parameter set we used the two sets that Nicole gave us. The first set has the following proteins:\n",
    "* Arrestin\n",
    "* MKK4\n",
    "* MKK7\n",
    "* JNK3\n",
    "\n",
    "# The second set of experiments has the following proteins:\n",
    "* MKK4\n",
    "* MKK7\n",
    "* JNK3\n",
    "\n",
    "# Using this experimental data we defined a cost function whose value is roughly the squared difference between the experimental data and the simulations. This gave us values for the kinetic parameters of the model\n",
    "\n",
    "# Note: The model calibration was done assuming that all the reactions are diffusion limited. Which means that we set all the k_forward (k_on) to 1.5E4 inversed microM * s"
   ]
  },
  {
   "cell_type": "code",
   "execution_count": null,
   "metadata": {},
   "outputs": [],
   "source": [
    "# Loading fitted parameters\n",
    "param_values = np.array([p.value for p in model.parameters])\n",
    "idx_pars_calibrate = [21, 23, 25, 26, 27, 28, 29, 30, 31, 32, 33, 35, 37]\n",
    "rates_of_interest_mask = [i in idx_pars_calibrate for i, par in enumerate(model.parameters)]\n",
    "\n",
    "# fitted_pars = np.load('jnk3_noASK1_calibrated_pars_arr_noarr.npy')\n",
    "fitted_pars = np.load('jnk3_noASK1_calibrated_pars.npy')\n",
    "param_values[rates_of_interest_mask] = 10 ** fitted_pars"
   ]
  },
  {
   "cell_type": "markdown",
   "metadata": {},
   "source": [
    "# Next, we present a plot of the results of the model calibration. The continuous lines represent the model simulations and the dots represent the experimental data."
   ]
  },
  {
   "cell_type": "code",
   "execution_count": null,
   "metadata": {},
   "outputs": [],
   "source": [
    "%matplotlib notebook\n",
    "exp_data = pd.read_csv('../data/exp_data_arrestin_noarrestin.csv')\n",
    "\n",
    "tspan0 = [0, 2, 4, 6, 8, 10, 12, 15, 30, 60, 3600]\n",
    "solver0 = ScipyOdeSimulator(model, tspan=tspan0)\n",
    "sim = solver0.run(param_values=param_values).all\n",
    "arrestin_idx = [38]\n",
    "# plt.semilogx(exp_data['Time (secs)'].values, sim['pTyr_jnk3'], color='red')\n",
    "plt.errorbar(exp_data['Time (secs)'].values, exp_data['pTyr_arrestin_avg'].values,\n",
    "             exp_data['pTyr_arrestin_std'].values,\n",
    "             linestyle='None', marker='o', capsize=5, color='red', label='pJNK3 by MKK4 exp')\n",
    "# plt.semilogx(exp_data['Time (secs)'].values, sim['pThr_jnk3'], color='blue')\n",
    "plt.errorbar(exp_data['Time (secs)'].values, exp_data['pThr_arrestin_avg'].values,\n",
    "             exp_data['pThr_arrestin_std'].values,\n",
    "             linestyle='None', marker='o', capsize=5, color='blue', label='pJNK3 by MKK7 exp')\n",
    "\n",
    "param_values2 = np.copy(param_values)\n",
    "param_values2[arrestin_idx] = 0\n",
    "sim2 = solver0.run(param_values=param_values2).all\n",
    "\n",
    "# plt.semilogx(exp_data['Time (secs)'].values, sim2['pTyr_jnk3'], color='black')\n",
    "plt.errorbar(exp_data['Time (secs)'].values, exp_data['pTyr_noarrestin_avg'].values,\n",
    "             exp_data['pTyr_noarrestin_std'].values,\n",
    "             linestyle='None', marker='o', capsize=5, color='black', label='pJNK3 by MKK4 no Arr exp')\n",
    "# plt.semilogx(exp_data['Time (secs)'].values, sim2['pThr_jnk3'], color='green')\n",
    "plt.errorbar(exp_data['Time (secs)'].values, exp_data['pThr_noarrestin_avg'].values,\n",
    "             exp_data['pThr_noarrestin_std'].values,\n",
    "             linestyle='None', marker='o', capsize=5, color='green', label='pJNK3 by MKK7 no Arr exp')\n",
    "\n",
    "plt.xlabel('Arrestin (microM)')\n",
    "plt.ylabel('pJNK3 (microM)')\n",
    "plt.legend()"
   ]
  },
  {
   "cell_type": "markdown",
   "metadata": {},
   "source": [
    "# From here, we are going to be doing the analysis using the simplest model that consists in having JNK3, MKK4, and MKK7 interacting. This would correspond to the last experimental data set that Nicole sent us. We used this model because it is easier to visualize its network of interactions and it still allows us to study the order of the JNK3 phosphorilation."
   ]
  },
  {
   "cell_type": "code",
   "execution_count": null,
   "metadata": {},
   "outputs": [],
   "source": [
    "from cyjs_viz.model_visualization import ModelVisualization\n",
    "from jnk3_no_ask1 import model\n",
    "import numpy as np\n",
    "tspan_v = np.linspace(0, 100, 100)\n",
    "viz = ModelVisualization(model)\n",
    "data = viz.dynamic_view(tspan=tspan_v, param_values= param_values, maxplus=True)\n",
    "# data = viz.static_view(get_passengers=False, find_paths=['s0', 's25'])"
   ]
  },
  {
   "cell_type": "code",
   "execution_count": null,
   "metadata": {},
   "outputs": [],
   "source": [
    "from cyjs_viz.cytoscapejs import viewer as cyjs\n",
    "from IPython.display import display\n",
    "q=cyjs.render(data, layout_algorithm='preset')"
   ]
  },
  {
   "cell_type": "code",
   "execution_count": null,
   "metadata": {},
   "outputs": [],
   "source": [
    "import networkx as nx\n",
    "from cyjs_viz.util import parse_name\n",
    "for path in nx.all_simple_paths(viz.sp_graph, 's0', 's25', cutoff=10): \n",
    "    print ([parse_name(model.species[int(filter(str.isdigit, n))]) for n in path])"
   ]
  },
  {
   "cell_type": "code",
   "execution_count": null,
   "metadata": {},
   "outputs": [],
   "source": [
    "viz = ModelVisualization(model)\n",
    "print(viz.sp_graph)"
   ]
  },
  {
   "cell_type": "code",
   "execution_count": null,
   "metadata": {},
   "outputs": [],
   "source": [
    "% matplotlib inline\n",
    "# Solving the PySB model to obtain the trajectories of the molecular species\n",
    "\n",
    "tspan = [0, 2, 4, 6, 8, 10, 12, 15, 30, 60, 100, 200, 500, 1000, 1500, 2000, 2500, 3000, 3600]\n",
    "solver = ScipyOdeSimulator(model, tspan=tspan)\n",
    "# param_values[arrestin_idx] = 0\n",
    "sim = solver.run(param_values=param_values).all"
   ]
  },
  {
   "cell_type": "code",
   "execution_count": null,
   "metadata": {},
   "outputs": [],
   "source": [
    "from pysb.bng import generate_equations\n",
    "generate_equations(model)\n",
    "for i,j in enumerate(model.species): print i,j"
   ]
  },
  {
   "cell_type": "markdown",
   "metadata": {},
   "source": [
    "# Figure 1. Here we show how inactive JNK3 is being used over time."
   ]
  },
  {
   "cell_type": "code",
   "execution_count": null,
   "metadata": {},
   "outputs": [],
   "source": [
    "plt.plot(tspan[:12], sim['__s3'][:12], label='uuJNK3')\n",
    "plt.legend()\n",
    "plt.xlabel('Time (s)')\n",
    "plt.ylabel('Concentration (microM)')"
   ]
  },
  {
   "cell_type": "markdown",
   "metadata": {},
   "source": [
    "# Figure 2. In this figure we can see how pMKK4 and pMKK7 are being used. pMKK4 and pMKK7 gets rapidly consumed and stay bound to other complexes."
   ]
  },
  {
   "cell_type": "code",
   "execution_count": null,
   "metadata": {},
   "outputs": [],
   "source": [
    "plt.plot(tspan[:12], sim['__s1'][:12], label='pMKK4')\n",
    "plt.plot(tspan[:12], sim['__s2'][:12], label='pMKK7')\n",
    "\n",
    "# plt.semilogx(tspan, sim['__s3'], label='uuJNK3')\n",
    "plt.legend()\n",
    "plt.xlabel('Time (s)')\n",
    "plt.ylabel('Concentration (microM)')"
   ]
  },
  {
   "cell_type": "code",
   "execution_count": null,
   "metadata": {},
   "outputs": [],
   "source": [
    "plt.plot(tspan[:12], sim['__s9'][:12], label='Arrestin % uuJNK3 % MKK4')\n",
    "plt.plot(tspan[:12], sim['__s10'][:12],label='Arrestin % uuJNK3 % MKK7')\n",
    "# plt.plot(tspan[:12], sim['__s6'][:12], label='upJNK3 % MKK4')\n",
    "# plt.plot(tspan, sim['__s7'], label='puJNK3 % MKK7')\n",
    "\n",
    "plt.legend()\n",
    "plt.xlabel('Time (s)')\n",
    "plt.ylabel('Concentration (microM)')"
   ]
  },
  {
   "cell_type": "code",
   "execution_count": null,
   "metadata": {},
   "outputs": [],
   "source": [
    "plt.plot(tspan[:12], sim['__s7'][:12], label='uuJNK3 % MKK4')\n",
    "plt.plot(tspan[:12], sim['__s8'][:12], label='uuJNK3 % MKK7')\n",
    "# plt.plot(tspan[:12], sim['__s6'][:12], label='upJNK3 % MKK4')\n",
    "# plt.plot(tspan, sim['__s7'], label='puJNK3 % MKK7')\n",
    "\n",
    "plt.legend()\n",
    "plt.xlabel('Time (s)')\n",
    "plt.ylabel('Concentration (microM)')"
   ]
  },
  {
   "cell_type": "code",
   "execution_count": null,
   "metadata": {},
   "outputs": [],
   "source": [
    "plt.plot(tspan[:], sim['__s13'][:], label='upJNK3 % MKK4')\n",
    "plt.plot(tspan[:], sim['__s14'][:], label='puJNK3 % MKK7')\n",
    "\n",
    "plt.legend()\n",
    "plt.xlabel('Time (s)')\n",
    "plt.ylabel('Concentration (microM)')"
   ]
  },
  {
   "cell_type": "code",
   "execution_count": null,
   "metadata": {},
   "outputs": [],
   "source": [
    "plt.plot(tspan[:12], sim['__s5'][:12], label='upJNK3 % MKK4')\n",
    "plt.plot(tspan[:12], sim['__s6'][:12], label='puJNK3 % MKK7')\n",
    "\n",
    "plt.legend()\n",
    "plt.xlabel('Time (s)')\n",
    "plt.ylabel('Concentration (microM)')"
   ]
  },
  {
   "cell_type": "markdown",
   "metadata": {},
   "source": [
    "# Figure 5. Comparation of the formation and dissociation rates of the puJNK3%MKK7 complex."
   ]
  },
  {
   "cell_type": "code",
   "execution_count": null,
   "metadata": {},
   "outputs": [],
   "source": [
    "plt.plot(tspan[:12], sim['__s1'][:12]*sim['__s8'][:12]*param_values[36]\n",
    "         -sim['__s6'][:12]*param_values[37], label='rate puJNK3%MKK7 dissociation')\n",
    "plt.plot(tspan[:12], sim['__s4'][:12]*param_values[31], label='rate puJNK3%MKK7 formation')\n",
    "plt.legend()\n",
    "plt.xlabel('Time (s)')\n",
    "plt.ylabel('Rate microM/s')"
   ]
  },
  {
   "cell_type": "markdown",
   "metadata": {},
   "source": [
    "# Figure 6. Comparation of the formation and dissociation rates of the upJNK3%MKK4 complex."
   ]
  },
  {
   "cell_type": "code",
   "execution_count": null,
   "metadata": {},
   "outputs": [],
   "source": [
    "plt.plot(tspan[:12], sim['__s0'][:12]*sim['__s7'][:12]*param_values[34]-sim['__s5'][:12]*param_values[35], label='rate puJNK3%MKK4 dissociation')\n",
    "plt.plot(tspan[:12], sim['__s3'][:12]*param_values[30], label='rate puJNK3%MKK4 formation')\n",
    "plt.legend()\n",
    "plt.xlabel('Time (s)')\n",
    "plt.ylabel('Rate microM/s')"
   ]
  },
  {
   "cell_type": "markdown",
   "metadata": {},
   "source": [
    "# Figure 7. In this figure we see that puJNK3 gets dissociated and accumulated from the puJNK3%MKK7 complex faster than the upJNK3%MKK4 complex. This implies that MKK7 phosphorylates JNK3 before MKK4 does."
   ]
  },
  {
   "cell_type": "code",
   "execution_count": null,
   "metadata": {},
   "outputs": [],
   "source": [
    "plt.plot(tspan[:12], sim['__s7'][:12], label='upJNK3')\n",
    "plt.plot(tspan[:12], sim['__s8'][:12], label='puJNK3')\n",
    "\n",
    "plt.legend()\n",
    "plt.xlabel('Time (s)')\n",
    "plt.ylabel('Concentration (microM)')"
   ]
  },
  {
   "cell_type": "code",
   "execution_count": null,
   "metadata": {},
   "outputs": [],
   "source": [
    "plt.plot(tspan[:12], sim['__s9'][:12], label='puJNK3 % MKK4')\n",
    "plt.plot(tspan[:12], sim['__s10'][:12], label='upJNK3 % MKK7')\n",
    "\n",
    "plt.legend()\n",
    "plt.xlabel('Time (s)')\n",
    "plt.ylabel('Concentration (microM)')"
   ]
  },
  {
   "cell_type": "code",
   "execution_count": null,
   "metadata": {},
   "outputs": [],
   "source": [
    "plt.plot(tspan[:12], sim['__s11'][:12], label='ppJNK3 % MKK4')\n",
    "plt.plot(tspan[:12], sim['__s12'][:12], label='ppJNK3 % MKK7')\n",
    "\n",
    "plt.legend()\n",
    "plt.xlabel('Time (s)')\n",
    "plt.ylabel('Concentration (microM)')"
   ]
  },
  {
   "cell_type": "code",
   "execution_count": null,
   "metadata": {},
   "outputs": [],
   "source": [
    "from tropical.dynamic_signatures_range import run_tropical\n",
    "\n",
    "tspan = [0, 2, 4, 6, 8, 10, 12, 15, 30, 60, 100, 200]\n",
    "solver = ScipyOdeSimulator(model_simple, tspan=tspan)\n",
    "# param_values[36] = 0\n",
    "sim_t = solver.run(param_values=param_values)\n"
   ]
  },
  {
   "cell_type": "code",
   "execution_count": null,
   "metadata": {},
   "outputs": [],
   "source": [
    "signatures7 = run_tropical(model_simple, simulations=sim_t, diff_par=1, sp_to_vis=[13], plot_type=0)"
   ]
  },
  {
   "cell_type": "code",
   "execution_count": null,
   "metadata": {},
   "outputs": [],
   "source": [
    "print(signatures['species_combinations'][7]['products'])\n",
    "print(signatures[7][0])"
   ]
  },
  {
   "cell_type": "code",
   "execution_count": null,
   "metadata": {},
   "outputs": [],
   "source": [
    "signatures8 = run_tropical(model_simple, simulations=sim_t, diff_par=1, sp_to_vis=[8], plot_type=0)"
   ]
  },
  {
   "cell_type": "code",
   "execution_count": null,
   "metadata": {},
   "outputs": [],
   "source": [
    "print(signatures['species_combinations'][8]['products'])\n",
    "print(signatures[8][0])"
   ]
  },
  {
   "cell_type": "markdown",
   "metadata": {},
   "source": [
    "# Conclusions\n",
    "* From the simulation analysis we can imply the order in JNK3 activation is that MKK7 first phosphorylates JNK3 at Thr and then MKK4 phosphorylates JNK3 at Tyr. Also, there is a small portion of the activated JNK3 where the order is reversed.\n",
    "* Something that it is interesting and that I think would require more analysis or experiments is that when MKK4 binds inactive JNK3 it has a high k_reverse (~3 orders of magnitude difference), but when JNK3 is phosphorylated at one of the sites that k_reverse becomes very small. And, the opposite situation happens to MKK7.\n"
   ]
  }
 ],
 "metadata": {
  "kernelspec": {
   "display_name": "Python 2",
   "language": "python",
   "name": "python2"
  },
  "language_info": {
   "codemirror_mode": {
    "name": "ipython",
    "version": 2
   },
   "file_extension": ".py",
   "mimetype": "text/x-python",
   "name": "python",
   "nbconvert_exporter": "python",
   "pygments_lexer": "ipython2",
   "version": "2.7.13"
  }
 },
 "nbformat": 4,
 "nbformat_minor": 2
}
